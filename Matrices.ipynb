{
  "nbformat": 4,
  "nbformat_minor": 0,
  "metadata": {
    "colab": {
      "provenance": [],
      "authorship_tag": "ABX9TyOj/EPzLS8cvOBEKZkZD/tF",
      "include_colab_link": true
    },
    "kernelspec": {
      "name": "python3",
      "display_name": "Python 3"
    },
    "language_info": {
      "name": "python"
    }
  },
  "cells": [
    {
      "cell_type": "markdown",
      "metadata": {
        "id": "view-in-github",
        "colab_type": "text"
      },
      "source": [
        "<a href=\"https://colab.research.google.com/github/seismomat/Numerico2025_1/blob/main/Matrices.ipynb\" target=\"_parent\"><img src=\"https://colab.research.google.com/assets/colab-badge.svg\" alt=\"Open In Colab\"/></a>"
      ]
    },
    {
      "cell_type": "code",
      "execution_count": 1,
      "metadata": {
        "id": "z4bEKgBCDUuT"
      },
      "outputs": [],
      "source": [
        "import numpy as np"
      ]
    },
    {
      "cell_type": "code",
      "source": [
        "n=100\n",
        "a=n*[1.0]\n",
        "b=n*[1.0]"
      ],
      "metadata": {
        "id": "EV-pGV7uD0kj"
      },
      "execution_count": 2,
      "outputs": []
    },
    {
      "cell_type": "code",
      "source": [
        "def SumVec(a,b):\n",
        "  if len(a)==len(b):\n",
        "    c=[]\n",
        "    for i in range(len(a)):\n",
        "      c.append(a[i]+b[i])\n",
        "    return c\n",
        "  else:\n",
        "    print(\"No son de la misma dimensión\")\n",
        "    return None"
      ],
      "metadata": {
        "id": "tfC_2lmjD40n"
      },
      "execution_count": 3,
      "outputs": []
    },
    {
      "cell_type": "code",
      "source": [
        "def ProdPunto(a,b):\n",
        "  if len(a)==len(b):\n",
        "    c=0.0\n",
        "    for i in range(len(a)):\n",
        "      c+=a[i]*b[i]\n",
        "    return c\n",
        "  else:\n",
        "    print(\"No son de la misma dimensión\")\n",
        "    return None"
      ],
      "metadata": {
        "id": "y2HMpG9aFX8R"
      },
      "execution_count": 4,
      "outputs": []
    },
    {
      "cell_type": "code",
      "source": [
        "ProdPunto(a,b)"
      ],
      "metadata": {
        "colab": {
          "base_uri": "https://localhost:8080/"
        },
        "id": "6_di3paIFfPp",
        "outputId": "3a60c116-558d-4728-c600-08e6299a2e8c"
      },
      "execution_count": 5,
      "outputs": [
        {
          "output_type": "execute_result",
          "data": {
            "text/plain": [
              "100.0"
            ]
          },
          "metadata": {},
          "execution_count": 5
        }
      ]
    },
    {
      "cell_type": "code",
      "source": [
        "n=100; m=102\n",
        "A=n*[m*[1.0]]\n",
        "B=n*[m*[2.0]]\n",
        "print(len(A[0])) # columnas\n",
        "print(len(A)) # filas"
      ],
      "metadata": {
        "colab": {
          "base_uri": "https://localhost:8080/"
        },
        "id": "CHyfdNpSGXzG",
        "outputId": "365454eb-d4fd-4de9-8671-36e9095f7d96"
      },
      "execution_count": 6,
      "outputs": [
        {
          "output_type": "stream",
          "name": "stdout",
          "text": [
            "102\n",
            "100\n"
          ]
        }
      ]
    },
    {
      "cell_type": "code",
      "source": [
        "def SumMat(A,B):\n",
        "  if len(A)==len(B) and len(A[0])==len(B[0]):\n",
        "    C=[]\n",
        "    for i in range(len(A)):\n",
        "      col=[]\n",
        "      for j in range(len(A[0])):\n",
        "        col.append(A[i][j]+B[i][j])\n",
        "      C.append(col)\n",
        "    return C\n",
        "  else:\n",
        "    print(\"No son de la misma dimensión\")\n",
        "    return None"
      ],
      "metadata": {
        "id": "DJJyEACNG9xV"
      },
      "execution_count": 7,
      "outputs": []
    },
    {
      "cell_type": "code",
      "source": [
        "D=SumMat(A,B)\n",
        "D[10][:10]"
      ],
      "metadata": {
        "colab": {
          "base_uri": "https://localhost:8080/"
        },
        "id": "dxyQaDS6J6vw",
        "outputId": "887bd72d-5f1a-40fc-f419-ac00bd396e7c"
      },
      "execution_count": 8,
      "outputs": [
        {
          "output_type": "execute_result",
          "data": {
            "text/plain": [
              "[3.0, 3.0, 3.0, 3.0, 3.0, 3.0, 3.0, 3.0, 3.0, 3.0]"
            ]
          },
          "metadata": {},
          "execution_count": 8
        }
      ]
    },
    {
      "cell_type": "code",
      "source": [
        "def MultMat(A,B):\n",
        "  if len(A)==len(B[0]):# comparo el numero columnas de A contra el\n",
        "                      # numero de filas de B\n",
        "    C=[]\n",
        "    for i in range(len(A)): # va sobre el numero de columnas de A\n",
        "      col=[]\n",
        "      for j in range(len(B[0])):# va sobre el numero de renglones de A\n",
        "        MM=0.0 # MultiMatriz (MM) se inicia en cero\n",
        "        for k in range(len(A[0])):\n",
        "          MM= MM+ A[i][k]*B[k][j]\n",
        "        col.append(MM)# cada entrada por columna de una fila\n",
        "      C.append(col)# cada una de las filas\n",
        "    return C\n",
        "  else:\n",
        "    print(\"No son de la misma dimensión\")\n",
        "    return None"
      ],
      "metadata": {
        "id": "Z1L5aDcXKAxS"
      },
      "execution_count": 9,
      "outputs": []
    },
    {
      "cell_type": "code",
      "source": [
        "n=100; m=102\n",
        "A=n*[m*[1.0]]# matriz de nxm\n",
        "B=m*[n*[2.0]]# matriz de mxn"
      ],
      "metadata": {
        "id": "RIq566mBx0bW"
      },
      "execution_count": 10,
      "outputs": []
    },
    {
      "cell_type": "code",
      "source": [
        "C=MultMat(A,B)\n",
        "C[10][:10] # impresion de los resultados"
      ],
      "metadata": {
        "id": "yC98AwTByWhr",
        "outputId": "bcf82739-e9e4-4acb-aee4-a88c3472f789",
        "colab": {
          "base_uri": "https://localhost:8080/"
        }
      },
      "execution_count": 11,
      "outputs": [
        {
          "output_type": "execute_result",
          "data": {
            "text/plain": [
              "[204.0, 204.0, 204.0, 204.0, 204.0, 204.0, 204.0, 204.0, 204.0, 204.0]"
            ]
          },
          "metadata": {},
          "execution_count": 11
        }
      ]
    },
    {
      "cell_type": "code",
      "source": [
        "A1=np.array(A)\n",
        "B1=np.array(B)\n",
        "C1=A1@B1 # multiplicacion de matrices\n",
        "C1[10][:10]# impresion de los resultados"
      ],
      "metadata": {
        "id": "c_snBzeWyYMV",
        "outputId": "e4dc2ce4-69bc-46e9-bc23-791da8cdd3d4",
        "colab": {
          "base_uri": "https://localhost:8080/"
        }
      },
      "execution_count": 13,
      "outputs": [
        {
          "output_type": "execute_result",
          "data": {
            "text/plain": [
              "array([204., 204., 204., 204., 204., 204., 204., 204., 204., 204.])"
            ]
          },
          "metadata": {},
          "execution_count": 13
        }
      ]
    },
    {
      "cell_type": "code",
      "source": [
        "def VecMat(A,b):\n",
        "  if len(A[0])==len(b):#compara el numero de columnas de A\n",
        "                      # contra el numero de entradas de b\n",
        "    MacVec=[]\n",
        "    for i in range(len(A)):\n",
        "      Mv=0.0 # multiplicacion Matriz-vector\n",
        "      for j in range(len(A[0])):\n",
        "        Mv= Mv+ A[i][j]*b[j]\n",
        "      MacVec.append(Mv)\n",
        "    return MacVec\n",
        "  else:\n",
        "    print(\"No se pueden multiplicar\")\n",
        "    return None"
      ],
      "metadata": {
        "id": "4bGYej221mqR"
      },
      "execution_count": 41,
      "outputs": []
    },
    {
      "cell_type": "code",
      "source": [
        "n=100; m=10\n",
        "A=n*[m*[1.0]]# matriz de nxm\n",
        "b=m*[1.0]# vector de m entradas"
      ],
      "metadata": {
        "id": "r-MSLfe_2dfv"
      },
      "execution_count": 42,
      "outputs": []
    },
    {
      "cell_type": "code",
      "source": [
        "MV=VecMat(A,b)\n",
        "MV[:10]"
      ],
      "metadata": {
        "id": "-1a7DUjd24DY",
        "outputId": "81cd4d59-15bf-477a-cabc-505039dc2ce9",
        "colab": {
          "base_uri": "https://localhost:8080/"
        }
      },
      "execution_count": 43,
      "outputs": [
        {
          "output_type": "execute_result",
          "data": {
            "text/plain": [
              "[10.0, 10.0, 10.0, 10.0, 10.0, 10.0, 10.0, 10.0, 10.0, 10.0]"
            ]
          },
          "metadata": {},
          "execution_count": 43
        }
      ]
    },
    {
      "cell_type": "code",
      "source": [
        "import numpy as np"
      ],
      "metadata": {
        "id": "Ne0byrc_2-oE"
      },
      "execution_count": 44,
      "outputs": []
    },
    {
      "cell_type": "code",
      "source": [
        "A=np.eye(5)"
      ],
      "metadata": {
        "id": "9nie1vY869bl"
      },
      "execution_count": 47,
      "outputs": []
    },
    {
      "cell_type": "code",
      "source": [],
      "metadata": {
        "id": "0pjgVKgV7A68"
      },
      "execution_count": null,
      "outputs": []
    }
  ]
}