{
  "nbformat": 4,
  "nbformat_minor": 0,
  "metadata": {
    "colab": {
      "provenance": [],
      "authorship_tag": "ABX9TyMgxu3kg3OBKfx/qgjZPtuF",
      "include_colab_link": true
    },
    "kernelspec": {
      "name": "python3",
      "display_name": "Python 3"
    },
    "language_info": {
      "name": "python"
    }
  },
  "cells": [
    {
      "cell_type": "markdown",
      "metadata": {
        "id": "view-in-github",
        "colab_type": "text"
      },
      "source": [
        "<a href=\"https://colab.research.google.com/github/seismomat/Numerico2025_1/blob/main/Matrices.ipynb\" target=\"_parent\"><img src=\"https://colab.research.google.com/assets/colab-badge.svg\" alt=\"Open In Colab\"/></a>"
      ]
    },
    {
      "cell_type": "code",
      "execution_count": 1,
      "metadata": {
        "id": "z4bEKgBCDUuT"
      },
      "outputs": [],
      "source": [
        "import numpy as np"
      ]
    },
    {
      "cell_type": "code",
      "source": [
        "n=100\n",
        "a=n*[1.0]\n",
        "b=n*[1.0]"
      ],
      "metadata": {
        "id": "EV-pGV7uD0kj"
      },
      "execution_count": 19,
      "outputs": []
    },
    {
      "cell_type": "code",
      "source": [
        "def SumVec(a,b):\n",
        "  if len(a)==len(b):\n",
        "    c=[]\n",
        "    for i in range(len(a)):\n",
        "      c.append(a[i]+b[i])\n",
        "    return c\n",
        "  else:\n",
        "    print(\"No son de la misma dimensión\")\n",
        "    return None"
      ],
      "metadata": {
        "id": "tfC_2lmjD40n"
      },
      "execution_count": 20,
      "outputs": []
    },
    {
      "cell_type": "code",
      "source": [
        "def ProdPunto(a,b):\n",
        "  if len(a)==len(b):\n",
        "    c=0.0\n",
        "    for i in range(len(a)):\n",
        "      c+=a[i]*b[i]\n",
        "    return c\n",
        "  else:\n",
        "    print(\"No son de la misma dimensión\")\n",
        "    return None"
      ],
      "metadata": {
        "id": "y2HMpG9aFX8R"
      },
      "execution_count": 22,
      "outputs": []
    },
    {
      "cell_type": "code",
      "source": [
        "ProdPunto(a,b)"
      ],
      "metadata": {
        "colab": {
          "base_uri": "https://localhost:8080/"
        },
        "id": "6_di3paIFfPp",
        "outputId": "645dde7e-ca3a-4671-cac0-89bcd04173ad"
      },
      "execution_count": 23,
      "outputs": [
        {
          "output_type": "execute_result",
          "data": {
            "text/plain": [
              "100.0"
            ]
          },
          "metadata": {},
          "execution_count": 23
        }
      ]
    },
    {
      "cell_type": "code",
      "source": [
        "n=100; m=102\n",
        "A=n*[m*[1.0]]\n",
        "B=n*[m*[2.0]]\n",
        "print(len(A[0])) # columnas\n",
        "print(len(A)) # filas"
      ],
      "metadata": {
        "colab": {
          "base_uri": "https://localhost:8080/"
        },
        "id": "CHyfdNpSGXzG",
        "outputId": "36128599-3edd-4458-a463-827169414dd1"
      },
      "execution_count": 36,
      "outputs": [
        {
          "output_type": "stream",
          "name": "stdout",
          "text": [
            "102\n",
            "100\n"
          ]
        }
      ]
    },
    {
      "cell_type": "code",
      "source": [
        "def SumMat(A,B):\n",
        "  if len(A)==len(B) and len(A[0])==len(B[0]):\n",
        "    C=[]\n",
        "    for i in range(len(A)):\n",
        "      col=[]\n",
        "      for j in range(len(A[0])):\n",
        "        col.append(A[i][j]+B[i][j])\n",
        "      C.append(col)\n",
        "    return C\n",
        "  else:\n",
        "    print(\"No son de la misma dimensión\")\n",
        "    return None"
      ],
      "metadata": {
        "id": "DJJyEACNG9xV"
      },
      "execution_count": 38,
      "outputs": []
    },
    {
      "cell_type": "code",
      "source": [
        "D=SumMat(A,B)\n",
        "D[10][:10]"
      ],
      "metadata": {
        "colab": {
          "base_uri": "https://localhost:8080/"
        },
        "id": "dxyQaDS6J6vw",
        "outputId": "40db104d-61b2-48f8-a9e4-3885a529219a"
      },
      "execution_count": 47,
      "outputs": [
        {
          "output_type": "execute_result",
          "data": {
            "text/plain": [
              "[3.0, 3.0, 3.0, 3.0, 3.0, 3.0, 3.0, 3.0, 3.0, 3.0]"
            ]
          },
          "metadata": {},
          "execution_count": 47
        }
      ]
    },
    {
      "cell_type": "code",
      "source": [
        "def MultMat(A,B):\n",
        "  if len(A)==len(B[0]):\n",
        "    C=[]\n",
        "    for i in range(len(A)):\n",
        "      col=[]\n",
        "      for j in range(len(B[0])):\n",
        "        for k in range(len(A[0])):\n",
        "        col.append(A[i][k]*B[k][j])\n",
        "      C.append(col)\n",
        "    return C\n",
        "  else:\n",
        "    print(\"No son de la misma dimensión\")\n",
        "    return None"
      ],
      "metadata": {
        "id": "Z1L5aDcXKAxS"
      },
      "execution_count": null,
      "outputs": []
    }
  ]
}