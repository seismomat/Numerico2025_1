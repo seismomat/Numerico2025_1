{
  "nbformat": 4,
  "nbformat_minor": 0,
  "metadata": {
    "colab": {
      "provenance": [],
      "authorship_tag": "ABX9TyNFSdv5amj3ZFEWSNIOL5Ck",
      "include_colab_link": true
    },
    "kernelspec": {
      "name": "python3",
      "display_name": "Python 3"
    },
    "language_info": {
      "name": "python"
    }
  },
  "cells": [
    {
      "cell_type": "markdown",
      "metadata": {
        "id": "view-in-github",
        "colab_type": "text"
      },
      "source": [
        "<a href=\"https://colab.research.google.com/github/seismomat/Numerico2025_1/blob/main/Rotaciones_Givens_chido.ipynb\" target=\"_parent\"><img src=\"https://colab.research.google.com/assets/colab-badge.svg\" alt=\"Open In Colab\"/></a>"
      ]
    },
    {
      "cell_type": "code",
      "execution_count": 2,
      "metadata": {
        "id": "kQa8eC_wnHqw"
      },
      "outputs": [],
      "source": [
        "import numpy as np\n",
        "from numpy import linalg as la"
      ]
    },
    {
      "cell_type": "code",
      "source": [
        "A=[[1,-1,4.0],[1.0,4.0,-2.],[1,4.0,2.],[1,-1.,0.]]\n",
        "A=np.array(A,dtype=float)\n",
        "A"
      ],
      "metadata": {
        "colab": {
          "base_uri": "https://localhost:8080/"
        },
        "id": "mFdXOqB5nIxy",
        "outputId": "cdedf3ae-0496-44d3-b89a-4786a1c4cc15"
      },
      "execution_count": 3,
      "outputs": [
        {
          "output_type": "execute_result",
          "data": {
            "text/plain": [
              "array([[ 1., -1.,  4.],\n",
              "       [ 1.,  4., -2.],\n",
              "       [ 1.,  4.,  2.],\n",
              "       [ 1., -1.,  0.]])"
            ]
          },
          "metadata": {},
          "execution_count": 3
        }
      ]
    },
    {
      "cell_type": "code",
      "source": [
        "def Givens(A):\n",
        "  R=np.copy(A)\n",
        "  Q=np.eye(len(A))\n",
        "  for i in range(A.shape[1]): # maneja el pivote\n",
        "    for j in range(i+1,len(A)):\n",
        "      G=np.eye(len(R))\n",
        "      ro=la.norm([R[i,i],R[j,i]])\n",
        "      c=R[i,i]/ro\n",
        "      s=R[j,i]/ro\n",
        "      G[i,i]=c; G[i,j]=s;\n",
        "      G[j,j]=c; G[j,i]=-s;\n",
        "      R=G@R\n",
        "\n",
        "      R=np.round(R,5)\n",
        "      G=np.round(G,5)\n",
        "      Q=Q@G.T\n",
        "  return R,Q"
      ],
      "metadata": {
        "id": "8zusizDHnKY5"
      },
      "execution_count": 4,
      "outputs": []
    },
    {
      "cell_type": "code",
      "source": [
        "RR,QQ=Givens(A)\n",
        "print(RR)"
      ],
      "metadata": {
        "colab": {
          "base_uri": "https://localhost:8080/"
        },
        "id": "Fa_k-MsWnP-C",
        "outputId": "33657878-0c3e-4de0-aa2c-2aa6ecf0196e"
      },
      "execution_count": 5,
      "outputs": [
        {
          "output_type": "stream",
          "name": "stdout",
          "text": [
            "[[ 2.       3.       2.     ]\n",
            " [ 0.       5.      -1.99999]\n",
            " [ 0.       0.       4.     ]\n",
            " [ 0.       0.      -0.     ]]\n"
          ]
        }
      ]
    },
    {
      "cell_type": "code",
      "source": [
        "print(QQ)"
      ],
      "metadata": {
        "colab": {
          "base_uri": "https://localhost:8080/"
        },
        "id": "kaLLmOBwnSE6",
        "outputId": "ac83fb5b-967d-4060-fc6c-82b4026db2ff"
      },
      "execution_count": 6,
      "outputs": [
        {
          "output_type": "stream",
          "name": "stdout",
          "text": [
            "[[ 0.50000702 -0.50000702  0.50000587 -0.50000829]\n",
            " [ 0.50000702  0.50000702 -0.50000565 -0.50000587]\n",
            " [ 0.50000242  0.50000264  0.50000702  0.50000702]\n",
            " [ 0.5        -0.50000242 -0.50000702  0.50000702]]\n"
          ]
        }
      ]
    },
    {
      "cell_type": "code",
      "source": [
        "QQ@RR"
      ],
      "metadata": {
        "colab": {
          "base_uri": "https://localhost:8080/"
        },
        "id": "nRj33w8KnT3a",
        "outputId": "c41307dd-7365-4d12-8be5-bcdd9e91b1d2"
      },
      "execution_count": 7,
      "outputs": [
        {
          "output_type": "execute_result",
          "data": {
            "text/plain": [
              "array([[ 1.00001405e+00, -1.00001405e+00,  4.00004657e+00],\n",
              "       [ 1.00001405e+00,  4.00005619e+00, -2.00001762e+00],\n",
              "       [ 1.00000484e+00,  4.00002044e+00,  2.00003266e+00],\n",
              "       [ 1.00000000e+00, -1.00001210e+00, -2.82528220e-05]])"
            ]
          },
          "metadata": {},
          "execution_count": 7
        }
      ]
    },
    {
      "cell_type": "code",
      "source": [
        "A"
      ],
      "metadata": {
        "id": "gxWqp-W4nWAy",
        "colab": {
          "base_uri": "https://localhost:8080/"
        },
        "outputId": "86bc40ed-000a-4dba-e8a8-9d8209cc4a3b"
      },
      "execution_count": 8,
      "outputs": [
        {
          "output_type": "execute_result",
          "data": {
            "text/plain": [
              "array([[ 1., -1.,  4.],\n",
              "       [ 1.,  4., -2.],\n",
              "       [ 1.,  4.,  2.],\n",
              "       [ 1., -1.,  0.]])"
            ]
          },
          "metadata": {},
          "execution_count": 8
        }
      ]
    },
    {
      "cell_type": "code",
      "source": [],
      "metadata": {
        "id": "7Dmg76SHhQky"
      },
      "execution_count": null,
      "outputs": []
    }
  ]
}