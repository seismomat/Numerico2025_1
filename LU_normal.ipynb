{
  "nbformat": 4,
  "nbformat_minor": 0,
  "metadata": {
    "colab": {
      "provenance": [],
      "authorship_tag": "ABX9TyOmDrq45D+9HPdqAUR4VI+V",
      "include_colab_link": true
    },
    "kernelspec": {
      "name": "python3",
      "display_name": "Python 3"
    },
    "language_info": {
      "name": "python"
    }
  },
  "cells": [
    {
      "cell_type": "markdown",
      "metadata": {
        "id": "view-in-github",
        "colab_type": "text"
      },
      "source": [
        "<a href=\"https://colab.research.google.com/github/seismomat/Numerico2025_1/blob/main/LU_normal.ipynb\" target=\"_parent\"><img src=\"https://colab.research.google.com/assets/colab-badge.svg\" alt=\"Open In Colab\"/></a>"
      ]
    },
    {
      "cell_type": "code",
      "execution_count": null,
      "metadata": {
        "id": "SoOH83osNTib"
      },
      "outputs": [],
      "source": [
        "import numpy as np"
      ]
    },
    {
      "cell_type": "code",
      "source": [
        "A=np.array([[2.0,1.0,1.0],[4.0,-6.0,0.0],[-2.0,7.0,2.0]])\n",
        "A"
      ],
      "metadata": {
        "colab": {
          "base_uri": "https://localhost:8080/"
        },
        "id": "ZACBGOvoSZz3",
        "outputId": "e1af2cce-dc23-425a-f62a-90b7143e4083"
      },
      "execution_count": null,
      "outputs": [
        {
          "output_type": "execute_result",
          "data": {
            "text/plain": [
              "array([[ 2.,  1.,  1.],\n",
              "       [ 4., -6.,  0.],\n",
              "       [-2.,  7.,  2.]])"
            ]
          },
          "metadata": {},
          "execution_count": 16
        }
      ]
    },
    {
      "cell_type": "code",
      "source": [
        "np.eye(A.shape[0])"
      ],
      "metadata": {
        "colab": {
          "base_uri": "https://localhost:8080/"
        },
        "id": "6UcHKBZ7TuzP",
        "outputId": "80c0a821-9064-40f9-db95-2f09da1c8acd"
      },
      "execution_count": null,
      "outputs": [
        {
          "output_type": "execute_result",
          "data": {
            "text/plain": [
              "array([[1., 0., 0.],\n",
              "       [0., 1., 0.],\n",
              "       [0., 0., 1.]])"
            ]
          },
          "metadata": {},
          "execution_count": 17
        }
      ]
    },
    {
      "cell_type": "code",
      "source": [
        "def FactLU(A):\n",
        "  U=np.copy(A)\n",
        "  n=A.shape[1]\n",
        "  L=np.eye(n)\n",
        "  for j in range(n):\n",
        "    Lj=np.eye(n)\n",
        "    for i in range(j+1,n):\n",
        "      Lj[i,j]=-U[i,j]/U[j,j]\n",
        "    print(Lj,j)\n",
        "    U=Lj@U\n",
        "    print(U)\n",
        "#ya quedo"
      ],
      "metadata": {
        "id": "WVa-cKhoSm61"
      },
      "execution_count": null,
      "outputs": []
    },
    {
      "cell_type": "code",
      "source": [
        "FactLU(A)"
      ],
      "metadata": {
        "colab": {
          "base_uri": "https://localhost:8080/"
        },
        "id": "CGvDPa3yUU35",
        "outputId": "c8863eff-338a-403a-d76a-2688e813a1ef"
      },
      "execution_count": null,
      "outputs": [
        {
          "output_type": "stream",
          "name": "stdout",
          "text": [
            "[[ 1.  0.  0.]\n",
            " [-2.  1.  0.]\n",
            " [ 1.  0.  1.]] 0\n",
            "[[ 2.  1.  1.]\n",
            " [ 0. -8. -2.]\n",
            " [ 0.  8.  3.]]\n",
            "[[1. 0. 0.]\n",
            " [0. 1. 0.]\n",
            " [0. 1. 1.]] 1\n",
            "[[ 2.  1.  1.]\n",
            " [ 0. -8. -2.]\n",
            " [ 0.  0.  1.]]\n",
            "[[1. 0. 0.]\n",
            " [0. 1. 0.]\n",
            " [0. 0. 1.]] 2\n",
            "[[ 2.  1.  1.]\n",
            " [ 0. -8. -2.]\n",
            " [ 0.  0.  1.]]\n"
          ]
        }
      ]
    },
    {
      "cell_type": "code",
      "source": [],
      "metadata": {
        "id": "ggCaWBdSUVnk"
      },
      "execution_count": null,
      "outputs": []
    }
  ]
}