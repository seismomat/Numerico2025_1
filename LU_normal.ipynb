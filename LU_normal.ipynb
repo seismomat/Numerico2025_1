{
  "nbformat": 4,
  "nbformat_minor": 0,
  "metadata": {
    "colab": {
      "provenance": [],
      "authorship_tag": "ABX9TyPJzYefzSR2Gd0tSldRbVk7",
      "include_colab_link": true
    },
    "kernelspec": {
      "name": "python3",
      "display_name": "Python 3"
    },
    "language_info": {
      "name": "python"
    }
  },
  "cells": [
    {
      "cell_type": "markdown",
      "metadata": {
        "id": "view-in-github",
        "colab_type": "text"
      },
      "source": [
        "<a href=\"https://colab.research.google.com/github/seismomat/Numerico2025_1/blob/main/LU_normal.ipynb\" target=\"_parent\"><img src=\"https://colab.research.google.com/assets/colab-badge.svg\" alt=\"Open In Colab\"/></a>"
      ]
    },
    {
      "cell_type": "code",
      "execution_count": 1,
      "metadata": {
        "id": "SoOH83osNTib"
      },
      "outputs": [],
      "source": [
        "import numpy as np"
      ]
    },
    {
      "cell_type": "code",
      "source": [
        "#A=np.array([[2.0,1.0,1.0],[4.0,-6.0,0.0],[-2.0,7.0,2.0]])\n",
        "A=np.array([[-4.,-3.,1.],[8.,11.,-1.],[4.,18.,5.]])\n",
        "A"
      ],
      "metadata": {
        "colab": {
          "base_uri": "https://localhost:8080/"
        },
        "id": "ZACBGOvoSZz3",
        "outputId": "074bafe6-4fb5-4f86-ac48-1e1a346a2e08"
      },
      "execution_count": 2,
      "outputs": [
        {
          "output_type": "execute_result",
          "data": {
            "text/plain": [
              "array([[-4., -3.,  1.],\n",
              "       [ 8., 11., -1.],\n",
              "       [ 4., 18.,  5.]])"
            ]
          },
          "metadata": {},
          "execution_count": 2
        }
      ]
    },
    {
      "cell_type": "code",
      "source": [
        "np.eye(A.shape[0])"
      ],
      "metadata": {
        "colab": {
          "base_uri": "https://localhost:8080/"
        },
        "id": "6UcHKBZ7TuzP",
        "outputId": "bb77eaa7-fabe-452f-d4dd-765396893744"
      },
      "execution_count": 3,
      "outputs": [
        {
          "output_type": "execute_result",
          "data": {
            "text/plain": [
              "array([[1., 0., 0.],\n",
              "       [0., 1., 0.],\n",
              "       [0., 0., 1.]])"
            ]
          },
          "metadata": {},
          "execution_count": 3
        }
      ]
    },
    {
      "cell_type": "code",
      "source": [
        "def FactLU(A):\n",
        "  U=np.copy(A)\n",
        "  n=A.shape[1]\n",
        "  L=np.eye(n)\n",
        "  for j in range(n):\n",
        "    Lj=np.eye(n)\n",
        "    for i in range(j+1,n):\n",
        "      Lj[i,j]=-U[i,j]/U[j,j]\n",
        "    L=L@Lj\n",
        "    #print(Lj,j)\n",
        "    U=Lj@U\n",
        "  L=2*np.eye(n)-L\n",
        "  return L,U"
      ],
      "metadata": {
        "id": "WVa-cKhoSm61"
      },
      "execution_count": 4,
      "outputs": []
    },
    {
      "cell_type": "code",
      "source": [
        "L,U=FactLU(A)\n",
        "print(U)\n",
        "print(L)\n",
        "print(L@U)"
      ],
      "metadata": {
        "colab": {
          "base_uri": "https://localhost:8080/"
        },
        "id": "CGvDPa3yUU35",
        "outputId": "8eb173ff-e9f9-4fa4-b32d-d4350d7ac5da"
      },
      "execution_count": 5,
      "outputs": [
        {
          "output_type": "stream",
          "name": "stdout",
          "text": [
            "[[-4. -3.  1.]\n",
            " [ 0.  5.  1.]\n",
            " [ 0.  0.  3.]]\n",
            "[[ 1.  0.  0.]\n",
            " [-2.  1.  0.]\n",
            " [-1.  3.  1.]]\n",
            "[[-4. -3.  1.]\n",
            " [ 8. 11. -1.]\n",
            " [ 4. 18.  5.]]\n"
          ]
        }
      ]
    },
    {
      "cell_type": "code",
      "source": [
        "def SustDelante(L,b):\n",
        "  x=np.zeros_like(b)\n",
        "  n=L.shape[0]# cantidad de renglones de L\n",
        "  for i in range(n):\n",
        "    sum=0.0\n",
        "    for j in range(i):\n",
        "      sum+=L[i,j]*x[j]\n",
        "    x[i]=(b[i]-sum)/L[i,i]\n",
        "\n",
        "  return x"
      ],
      "metadata": {
        "id": "ggCaWBdSUVnk"
      },
      "execution_count": 6,
      "outputs": []
    },
    {
      "cell_type": "code",
      "source": [
        "b=np.ones(3)\n",
        "x=SustDelante(L,b)\n",
        "x"
      ],
      "metadata": {
        "colab": {
          "base_uri": "https://localhost:8080/"
        },
        "id": "iFk0ju-rFzgR",
        "outputId": "9631195c-d574-43f9-f067-f28c0561a0ac"
      },
      "execution_count": 7,
      "outputs": [
        {
          "output_type": "execute_result",
          "data": {
            "text/plain": [
              "array([ 1.,  3., -7.])"
            ]
          },
          "metadata": {},
          "execution_count": 7
        }
      ]
    },
    {
      "cell_type": "code",
      "source": [],
      "metadata": {
        "id": "FVAltoGmF5Rm"
      },
      "execution_count": 7,
      "outputs": []
    }
  ]
}