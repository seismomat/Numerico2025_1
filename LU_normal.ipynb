{
  "nbformat": 4,
  "nbformat_minor": 0,
  "metadata": {
    "colab": {
      "provenance": [],
      "authorship_tag": "ABX9TyM5ffBtBQAYhW2qsuyf6omb",
      "include_colab_link": true
    },
    "kernelspec": {
      "name": "python3",
      "display_name": "Python 3"
    },
    "language_info": {
      "name": "python"
    }
  },
  "cells": [
    {
      "cell_type": "markdown",
      "metadata": {
        "id": "view-in-github",
        "colab_type": "text"
      },
      "source": [
        "<a href=\"https://colab.research.google.com/github/seismomat/Numerico2025_1/blob/main/LU_normal.ipynb\" target=\"_parent\"><img src=\"https://colab.research.google.com/assets/colab-badge.svg\" alt=\"Open In Colab\"/></a>"
      ]
    },
    {
      "cell_type": "code",
      "execution_count": 1,
      "metadata": {
        "id": "SoOH83osNTib"
      },
      "outputs": [],
      "source": [
        "import numpy as np"
      ]
    },
    {
      "cell_type": "code",
      "source": [
        "#A=np.array([[2.0,1.0,1.0],[4.0,-6.0,0.0],[-2.0,7.0,2.0]])\n",
        "A=np.array([[-4.,-3.,1.],[8.,11.,-1.],[4.,18.,5.]])\n",
        "A"
      ],
      "metadata": {
        "colab": {
          "base_uri": "https://localhost:8080/"
        },
        "id": "ZACBGOvoSZz3",
        "outputId": "a038da11-be18-47a8-f506-dd8206d70262"
      },
      "execution_count": 2,
      "outputs": [
        {
          "output_type": "execute_result",
          "data": {
            "text/plain": [
              "array([[-4., -3.,  1.],\n",
              "       [ 8., 11., -1.],\n",
              "       [ 4., 18.,  5.]])"
            ]
          },
          "metadata": {},
          "execution_count": 2
        }
      ]
    },
    {
      "cell_type": "code",
      "source": [
        "np.eye(A.shape[0])"
      ],
      "metadata": {
        "colab": {
          "base_uri": "https://localhost:8080/"
        },
        "id": "6UcHKBZ7TuzP",
        "outputId": "80c0a821-9064-40f9-db95-2f09da1c8acd"
      },
      "execution_count": null,
      "outputs": [
        {
          "output_type": "execute_result",
          "data": {
            "text/plain": [
              "array([[1., 0., 0.],\n",
              "       [0., 1., 0.],\n",
              "       [0., 0., 1.]])"
            ]
          },
          "metadata": {},
          "execution_count": 17
        }
      ]
    },
    {
      "cell_type": "code",
      "source": [
        "def FactLU(A):\n",
        "  U=np.copy(A)\n",
        "  n=A.shape[1]\n",
        "  L=np.eye(n)\n",
        "  for j in range(n):\n",
        "    Lj=np.eye(n)\n",
        "    for i in range(j+1,n):\n",
        "      Lj[i,j]=-U[i,j]/U[j,j]\n",
        "    L=L@Lj\n",
        "    #print(Lj,j)\n",
        "    U=Lj@U\n",
        "  L=2*np.eye(n)-L\n",
        "  return L,U"
      ],
      "metadata": {
        "id": "WVa-cKhoSm61"
      },
      "execution_count": 9,
      "outputs": []
    },
    {
      "cell_type": "code",
      "source": [
        "L,U=FactLU(A)\n",
        "print(U)\n",
        "print(L)\n",
        "print(L@U)"
      ],
      "metadata": {
        "colab": {
          "base_uri": "https://localhost:8080/"
        },
        "id": "CGvDPa3yUU35",
        "outputId": "fafa5201-457a-40fd-8492-57ec6d53bf92"
      },
      "execution_count": 11,
      "outputs": [
        {
          "output_type": "stream",
          "name": "stdout",
          "text": [
            "[[-4. -3.  1.]\n",
            " [ 0.  5.  1.]\n",
            " [ 0.  0.  3.]]\n",
            "[[ 1.  0.  0.]\n",
            " [-2.  1.  0.]\n",
            " [-1.  3.  1.]]\n",
            "[[-4. -3.  1.]\n",
            " [ 8. 11. -1.]\n",
            " [ 4. 18.  5.]]\n"
          ]
        }
      ]
    },
    {
      "cell_type": "code",
      "source": [
        "def SustDelante(L,b):\n",
        "  x=np.zeros_like(b)\n",
        "  n=L.shape[0]# cantidad de renglones de L\n",
        "  x[0]=b[0]/L[0,0]\n",
        "  for i in range(n):\n",
        "    sum=0.0\n",
        "    for j in range(1,i-1):\n",
        "      sum+=L[i,j]*x[j]\n",
        "    x[i]=(b[i]-sum)/L[i,i]\n",
        "\n",
        "  return x"
      ],
      "metadata": {
        "id": "ggCaWBdSUVnk"
      },
      "execution_count": 19,
      "outputs": []
    },
    {
      "cell_type": "code",
      "source": [
        "b=np.ones(3)\n",
        "x=SustDelante(L,b)\n",
        "x"
      ],
      "metadata": {
        "colab": {
          "base_uri": "https://localhost:8080/"
        },
        "id": "iFk0ju-rFzgR",
        "outputId": "c9a757fa-f2ec-47ad-e7e3-edb907b17130"
      },
      "execution_count": 20,
      "outputs": [
        {
          "output_type": "execute_result",
          "data": {
            "text/plain": [
              "array([1., 1., 1.])"
            ]
          },
          "metadata": {},
          "execution_count": 20
        }
      ]
    },
    {
      "cell_type": "code",
      "source": [],
      "metadata": {
        "id": "FVAltoGmF5Rm"
      },
      "execution_count": null,
      "outputs": []
    }
  ]
}