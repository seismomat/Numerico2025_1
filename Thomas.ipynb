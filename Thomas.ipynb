{
  "nbformat": 4,
  "nbformat_minor": 0,
  "metadata": {
    "colab": {
      "provenance": [],
      "authorship_tag": "ABX9TyPXViNcTpgJZ1WxbKcUJEmS",
      "include_colab_link": true
    },
    "kernelspec": {
      "name": "python3",
      "display_name": "Python 3"
    },
    "language_info": {
      "name": "python"
    }
  },
  "cells": [
    {
      "cell_type": "markdown",
      "metadata": {
        "id": "view-in-github",
        "colab_type": "text"
      },
      "source": [
        "<a href=\"https://colab.research.google.com/github/seismomat/Numerico2025_1/blob/main/Thomas.ipynb\" target=\"_parent\"><img src=\"https://colab.research.google.com/assets/colab-badge.svg\" alt=\"Open In Colab\"/></a>"
      ]
    },
    {
      "cell_type": "code",
      "execution_count": 1,
      "metadata": {
        "id": "i-F8vBnyKojN"
      },
      "outputs": [],
      "source": [
        "import numpy as np"
      ]
    },
    {
      "cell_type": "code",
      "source": [
        "m=10\n",
        "A=2*np.eye(m)\n",
        "b=np.ones(m)"
      ],
      "metadata": {
        "id": "ZO26j6zOK2O-"
      },
      "execution_count": 11,
      "outputs": []
    },
    {
      "cell_type": "code",
      "source": [
        "def SolveDiag(D,b):\n",
        "  n=len(D)\n",
        "  x=np.zeros(n)\n",
        "  for i in range(n):\n",
        "    x[i]=b[i]/D[i][i]\n",
        "\n",
        "  return x"
      ],
      "metadata": {
        "id": "P6u7LY2hK8wK"
      },
      "execution_count": 13,
      "outputs": []
    },
    {
      "cell_type": "code",
      "source": [
        "SolveDiag(A,b)"
      ],
      "metadata": {
        "colab": {
          "base_uri": "https://localhost:8080/"
        },
        "id": "G_zXCgu4Lxps",
        "outputId": "fb646615-8009-4494-de28-4d505038f70a"
      },
      "execution_count": 14,
      "outputs": [
        {
          "output_type": "execute_result",
          "data": {
            "text/plain": [
              "array([0.5, 0.5, 0.5, 0.5, 0.5, 0.5, 0.5, 0.5, 0.5, 0.5])"
            ]
          },
          "metadata": {},
          "execution_count": 14
        }
      ]
    },
    {
      "cell_type": "code",
      "source": [
        "DP=2*np.ones(m+1)\n",
        "DS=-np.ones(m)\n",
        "DI=-np.ones(m)"
      ],
      "metadata": {
        "id": "1V_HElsyL3P0"
      },
      "execution_count": 21,
      "outputs": []
    },
    {
      "cell_type": "code",
      "source": [
        "def Thomas(DP,DS,DI):\n",
        "  n=len(DP)\n",
        "  for i in range(n-1):\n",
        "    DP[i+1]=DP[i+1]-(DI[i]/DP[i])*DS[i]\n",
        "\n",
        "  return DP"
      ],
      "metadata": {
        "id": "dtysaG1XRflM"
      },
      "execution_count": 22,
      "outputs": []
    },
    {
      "cell_type": "code",
      "source": [
        "Thomas(DP,DS,DI)"
      ],
      "metadata": {
        "colab": {
          "base_uri": "https://localhost:8080/"
        },
        "id": "-bUF0JJESm5k",
        "outputId": "ea30fddf-0d82-42c2-c63c-4c17fae7f32f"
      },
      "execution_count": 23,
      "outputs": [
        {
          "output_type": "execute_result",
          "data": {
            "text/plain": [
              "array([2.        , 1.5       , 1.33333333, 1.25      , 1.2       ,\n",
              "       1.16666667, 1.14285714, 1.125     , 1.11111111, 1.1       ,\n",
              "       1.09090909])"
            ]
          },
          "metadata": {},
          "execution_count": 23
        }
      ]
    },
    {
      "cell_type": "code",
      "source": [],
      "metadata": {
        "id": "L1ot20DzStQc"
      },
      "execution_count": null,
      "outputs": []
    }
  ]
}