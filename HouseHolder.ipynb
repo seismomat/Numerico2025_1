{
  "nbformat": 4,
  "nbformat_minor": 0,
  "metadata": {
    "colab": {
      "provenance": [],
      "authorship_tag": "ABX9TyOdEUfHocR23xLDNg5oWk2b",
      "include_colab_link": true
    },
    "kernelspec": {
      "name": "python3",
      "display_name": "Python 3"
    },
    "language_info": {
      "name": "python"
    }
  },
  "cells": [
    {
      "cell_type": "markdown",
      "metadata": {
        "id": "view-in-github",
        "colab_type": "text"
      },
      "source": [
        "<a href=\"https://colab.research.google.com/github/seismomat/Numerico2025_1/blob/main/HouseHolder.ipynb\" target=\"_parent\"><img src=\"https://colab.research.google.com/assets/colab-badge.svg\" alt=\"Open In Colab\"/></a>"
      ]
    },
    {
      "cell_type": "code",
      "execution_count": null,
      "metadata": {
        "colab": {
          "base_uri": "https://localhost:8080/"
        },
        "id": "5P3HLUaNsi6i",
        "outputId": "9ed5acb1-3221-45fc-b607-34d4fb4a4ed1"
      },
      "outputs": [
        {
          "output_type": "execute_result",
          "data": {
            "text/plain": [
              "array([[-1., -1.,  1.],\n",
              "       [ 1.,  3.,  3.],\n",
              "       [-1., -1.,  5.]])"
            ]
          },
          "metadata": {},
          "execution_count": 1
        }
      ],
      "source": [
        "import numpy as np\n",
        "from numpy import linalg as LA\n",
        "A=np.array([[-1.,-1.,1.],[1.,3.,3.],[-1.,-1.,5.]])\n",
        "A"
      ]
    },
    {
      "cell_type": "code",
      "source": [
        "n=A.shape[0]\n",
        "Q=np.eye(n)\n",
        "\n",
        "xi=np.zeros(n)\n",
        "xi[0:]=A[:,0][0:]\n",
        "norm_x=LA.norm(xi)\n",
        "\n",
        "ei=np.zeros(n)\n",
        "ei[0]=1.0\n",
        "\n",
        "ui=np.zeros(n)\n",
        "ui=xi+np.sign(A[0,0])*norm_x*ei\n",
        "\n",
        "vi= ui/LA.norm(ui)\n",
        "vi=vi.reshape(-1,1)\n",
        "\n",
        "H=np.eye(n)-2*vi@vi.T\n",
        "A=H@A\n",
        "Q=Q@H\n",
        "\n",
        "A,Q"
      ],
      "metadata": {
        "colab": {
          "base_uri": "https://localhost:8080/"
        },
        "id": "z8KNfQaLLAod",
        "outputId": "ecc032d3-d1a6-4d67-f1d9-4e6a58b94e0d"
      },
      "execution_count": null,
      "outputs": [
        {
          "output_type": "execute_result",
          "data": {
            "text/plain": [
              "(array([[ 1.73205081,  2.88675135, -1.73205081],\n",
              "        [ 0.        ,  1.57735027,  4.        ],\n",
              "        [ 0.        ,  0.42264973,  4.        ]]),\n",
              " array([[-0.57735027,  0.57735027, -0.57735027],\n",
              "        [ 0.57735027,  0.78867513,  0.21132487],\n",
              "        [-0.57735027,  0.21132487,  0.78867513]]))"
            ]
          },
          "metadata": {},
          "execution_count": 2
        }
      ]
    },
    {
      "cell_type": "code",
      "source": [
        "xi=np.zeros(n)\n",
        "xi[1:]=A[:,1][1:]\n",
        "norm_x=LA.norm(xi)\n",
        "\n",
        "ei=np.zeros(n)\n",
        "ei[1]=1.0\n",
        "\n",
        "ui=np.zeros(n)\n",
        "ui=xi+np.sign(A[1,1])*norm_x*ei\n",
        "\n",
        "vi= ui/LA.norm(ui)\n",
        "vi=vi.reshape(-1,1)\n",
        "\n",
        "H=np.eye(n)-2*vi@vi.T\n",
        "A=H@A\n",
        "Q=Q@H\n",
        "\n",
        "A,Q"
      ],
      "metadata": {
        "colab": {
          "base_uri": "https://localhost:8080/"
        },
        "id": "icWapw0ALAwX",
        "outputId": "35d5e4af-3f32-4a9d-e183-e85a43e2d42c"
      },
      "execution_count": null,
      "outputs": [
        {
          "output_type": "execute_result",
          "data": {
            "text/plain": [
              "(array([[ 1.73205081e+00,  2.88675135e+00, -1.73205081e+00],\n",
              "        [ 0.00000000e+00, -1.63299316e+00, -4.89897949e+00],\n",
              "        [ 0.00000000e+00, -1.33021460e-17,  2.82842712e+00]]),\n",
              " array([[-5.77350269e-01, -4.08248290e-01, -7.07106781e-01],\n",
              "        [ 5.77350269e-01, -8.16496581e-01, -6.65107298e-18],\n",
              "        [-5.77350269e-01, -4.08248290e-01,  7.07106781e-01]]))"
            ]
          },
          "metadata": {},
          "execution_count": 11
        }
      ]
    },
    {
      "cell_type": "code",
      "source": [
        "def Householder(A):\n",
        "  Q=np.eye(len(A))\n",
        "  n=A.shape[1]\n",
        "\n",
        "  for i in range(n):\n",
        "    xi=np.zeros(len(A))\n",
        "    xi[i:]=A[:,i][i:]\n",
        "    norm_x=LA.norm(xi)\n",
        "    ei=np.zeros(len(A))\n",
        "    ei[i]=1.0\n",
        "    ui=np.zeros(len(A))\n",
        "    ui=xi+np.sign(A[i,i])*norm_x*ei\n",
        "    vi=ui/LA.norm(ui)\n",
        "    vi=vi.reshape(-1,1)\n",
        "\n",
        "    H=np.eye(len(A))-2*vi@vi.T\n",
        "    A=H@A\n",
        "    Q=Q@H\n",
        "\n",
        "  return Q,A"
      ],
      "metadata": {
        "id": "ppVzZUzRskfS"
      },
      "execution_count": null,
      "outputs": []
    },
    {
      "cell_type": "code",
      "source": [
        "Q,R=Householder(A)\n",
        "Q@R"
      ],
      "metadata": {
        "id": "rpzppTbWsrPC",
        "colab": {
          "base_uri": "https://localhost:8080/"
        },
        "outputId": "752595e9-74e7-40b4-db5a-dd9d80743676"
      },
      "execution_count": null,
      "outputs": [
        {
          "output_type": "execute_result",
          "data": {
            "text/plain": [
              "array([[-1., -1.,  1.],\n",
              "       [ 1.,  3.,  3.],\n",
              "       [-1., -1.,  5.]])"
            ]
          },
          "metadata": {},
          "execution_count": 3
        }
      ]
    },
    {
      "cell_type": "code",
      "source": [],
      "metadata": {
        "id": "ExZA4n9bSsl5"
      },
      "execution_count": null,
      "outputs": []
    }
  ]
}