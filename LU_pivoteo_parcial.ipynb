{
  "nbformat": 4,
  "nbformat_minor": 0,
  "metadata": {
    "colab": {
      "provenance": [],
      "authorship_tag": "ABX9TyN5KuAxLC1xysObGkpZqqHh",
      "include_colab_link": true
    },
    "kernelspec": {
      "name": "python3",
      "display_name": "Python 3"
    },
    "language_info": {
      "name": "python"
    }
  },
  "cells": [
    {
      "cell_type": "markdown",
      "metadata": {
        "id": "view-in-github",
        "colab_type": "text"
      },
      "source": [
        "<a href=\"https://colab.research.google.com/github/seismomat/Numerico2025_1/blob/main/LU_pivoteo_parcial.ipynb\" target=\"_parent\"><img src=\"https://colab.research.google.com/assets/colab-badge.svg\" alt=\"Open In Colab\"/></a>"
      ]
    },
    {
      "cell_type": "code",
      "execution_count": 1,
      "metadata": {
        "id": "V45dQu3wAmZB"
      },
      "outputs": [],
      "source": [
        "import numpy as np\n",
        "from numpy import linalg as LA"
      ]
    },
    {
      "cell_type": "code",
      "source": [
        "def FactLU(A):\n",
        "  U=np.copy(A)\n",
        "  n=A.shape[1]\n",
        "  L=np.eye(n)\n",
        "  for j in range(n):\n",
        "    Lj=np.eye(n)\n",
        "    for i in range(j+1,n):\n",
        "      Lj[i,j]=-U[i,j]/U[j,j]\n",
        "    L=L@Lj\n",
        "    #print(Lj,j)\n",
        "    U=Lj@U\n",
        "  L=2*np.eye(n)-L\n",
        "  return L,U\n",
        "\n",
        "def SustDelante(L,b):\n",
        "  x=np.zeros_like(b)\n",
        "  n=L.shape[0]# cantidad de renglones de L\n",
        "  for i in range(n):\n",
        "    sum=0.0\n",
        "    for j in range(i):\n",
        "      sum+=L[i,j]*x[j]\n",
        "    x[i]=(b[i]-sum)/L[i,i]\n",
        "\n",
        "  return x\n",
        "\n",
        "def SustAtras(U,y):\n",
        "  x=np.zeros_like(y)\n",
        "  n=U.shape[0]# cantidad de renglones de U\n",
        "  x[n-1]=y[n-1]/U[n-1][n-1]\n",
        "\n",
        "  for i in range(n-2,-1,-1):\n",
        "    sum=0.0\n",
        "    for j in range(i+1,n):\n",
        "      sum+=U[i,j]*x[j]\n",
        "    x[i]=(y[i]-sum)/U[i,i]\n",
        "\n",
        "  return x\n",
        "\n",
        "def SolverLU(A,b):\n",
        "  L,U=FactLU(A)\n",
        "  y=SustDelante(L,b)\n",
        "  x=SustAtras(U,y)\n",
        "\n",
        "  return x"
      ],
      "metadata": {
        "id": "WB7I3fE7AqEp"
      },
      "execution_count": 2,
      "outputs": []
    },
    {
      "cell_type": "code",
      "source": [
        "A=np.array([[1.,2.,4.],[2.,1.,3.],[3.,2.,4]])\n",
        "A"
      ],
      "metadata": {
        "id": "OKHRo2UcA7Og",
        "colab": {
          "base_uri": "https://localhost:8080/"
        },
        "outputId": "40d80c85-3e35-4797-a6ad-e5b511174cc6"
      },
      "execution_count": 3,
      "outputs": [
        {
          "output_type": "execute_result",
          "data": {
            "text/plain": [
              "array([[1., 2., 4.],\n",
              "       [2., 1., 3.],\n",
              "       [3., 2., 4.]])"
            ]
          },
          "metadata": {},
          "execution_count": 3
        }
      ]
    },
    {
      "cell_type": "code",
      "source": [
        "np.argmax(A[0,:]) # ncuentra el valor máximo de la matriz\n",
        "A[[0,2]]=A[[2,0]] # Intercambia el renglon 0 con el 2"
      ],
      "metadata": {
        "id": "vBnIEL29b2S_"
      },
      "execution_count": 4,
      "outputs": []
    },
    {
      "cell_type": "code",
      "source": [
        "def Permutaciones(A,y):\n",
        "  Ps=[]\n",
        "  U=np.copy(A)\n",
        "  b=np.copy(y)\n",
        "\n",
        "  for i in range(A.shape[0]):\n",
        "    P=np.eye(A.shape[0])\n",
        "    k=np.argmax(U[i:,i:])\n",
        "    print(k,i)\n",
        "    U[[i,k]]=U[[k,i]]\n",
        "    P[[i,k]]=P[[k,i]]\n",
        "    b[[i,k]]=b[[k,i]]\n",
        "    Ps.append(P)\n",
        "\n",
        "  return U,Ps,b"
      ],
      "metadata": {
        "id": "EP9up1HZb8-H"
      },
      "execution_count": 35,
      "outputs": []
    },
    {
      "cell_type": "code",
      "source": [
        "A_g,Ps,b_g=Permutaciones(A,y)\n",
        "x_g=SolverLU(A_g,b_g)"
      ],
      "metadata": {
        "colab": {
          "base_uri": "https://localhost:8080/"
        },
        "id": "Mj3bWohCc_ZL",
        "outputId": "74057dda-a8cf-4844-ebb6-708c7a9a0607"
      },
      "execution_count": 6,
      "outputs": [
        {
          "output_type": "execute_result",
          "data": {
            "text/plain": [
              "array([[1., 2., 4.],\n",
              "       [2., 1., 3.],\n",
              "       [3., 2., 4.]])"
            ]
          },
          "metadata": {},
          "execution_count": 6
        }
      ]
    },
    {
      "cell_type": "code",
      "source": [
        "Permutaciones(A)"
      ],
      "metadata": {
        "colab": {
          "base_uri": "https://localhost:8080/"
        },
        "id": "otP9E4r9dF78",
        "outputId": "0f1278c7-9687-47d8-e8ee-707b130c6f6a"
      },
      "execution_count": 34,
      "outputs": [
        {
          "output_type": "stream",
          "name": "stdout",
          "text": [
            "2 0\n",
            "3 1\n",
            "0 2\n"
          ]
        }
      ]
    },
    {
      "cell_type": "code",
      "source": [],
      "metadata": {
        "colab": {
          "base_uri": "https://localhost:8080/"
        },
        "id": "AzmkO68cdTZY",
        "outputId": "28eafe7f-70c6-4f5f-aa9e-301caba02b0b"
      },
      "execution_count": 8,
      "outputs": [
        {
          "output_type": "execute_result",
          "data": {
            "text/plain": [
              "array([[4.]])"
            ]
          },
          "metadata": {},
          "execution_count": 8
        }
      ]
    },
    {
      "cell_type": "code",
      "source": [],
      "metadata": {
        "id": "Swp4anJDd0Uy"
      },
      "execution_count": 8,
      "outputs": []
    }
  ]
}