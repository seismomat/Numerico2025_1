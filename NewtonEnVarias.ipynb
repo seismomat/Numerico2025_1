{
  "nbformat": 4,
  "nbformat_minor": 0,
  "metadata": {
    "colab": {
      "provenance": [],
      "authorship_tag": "ABX9TyO51Bxu5MHQqdDCvlG/LWH3",
      "include_colab_link": true
    },
    "kernelspec": {
      "name": "python3",
      "display_name": "Python 3"
    },
    "language_info": {
      "name": "python"
    }
  },
  "cells": [
    {
      "cell_type": "markdown",
      "metadata": {
        "id": "view-in-github",
        "colab_type": "text"
      },
      "source": [
        "<a href=\"https://colab.research.google.com/github/seismomat/Numerico2025_1/blob/main/NewtonEnVarias.ipynb\" target=\"_parent\"><img src=\"https://colab.research.google.com/assets/colab-badge.svg\" alt=\"Open In Colab\"/></a>"
      ]
    },
    {
      "cell_type": "code",
      "execution_count": 6,
      "metadata": {
        "id": "IOC64OIPGMtR"
      },
      "outputs": [],
      "source": [
        "import numpy as np\n",
        "import math\n",
        "from numpy import linalg as LA\n",
        "\n",
        "# funcion f1\n",
        "def f1(x1, x2):\n",
        "    return 2*x1-x2-math.e**(-x1)\n",
        "\n",
        "# funcion f2\n",
        "def f2(x1, x2):\n",
        "    return -x1+2*x2-math.e**(-x2)\n",
        "\n",
        "# parcial (en este caso la parcial de f1 y f2 es la misma)\n",
        "def par(x):\n",
        "    return 2+math.e**(-x)"
      ]
    },
    {
      "cell_type": "markdown",
      "source": [
        "$$ \\vec{X}^{(k+1)}=\\vec{X}^{(k)}-\\left[F'\\left(\\vec{X}^{(k)}\\right)\\right]^{-1}F\\left(\\vec{X}^{(k)}\\right) $$"
      ],
      "metadata": {
        "id": "tOejHzlfJ-ux"
      }
    },
    {
      "cell_type": "code",
      "source": [
        "def NewtonVarias(aprox):\n",
        "    # contador de iteraciones\n",
        "    n = 0\n",
        "    while n < 100: # maximo numero de iteraciones 100\n",
        "        '''es necesario calcular la matriz jacobiana\n",
        "        y para ello se necesita una matriz vacia de 2x2'''\n",
        "        jacob = np.zeros([2,2])\n",
        "\n",
        "        # valores de la matriz jacobiana en todas sus entradas\n",
        "        jacob[0][0] = par(aprox[0])\n",
        "        jacob[0][1] = -1\n",
        "        jacob[1][0] = -1\n",
        "        jacob[1][1] = par(aprox[1])\n",
        "\n",
        "        # guarda la evalucion de f1 y f2 en forma de vector\n",
        "        fx = np.array(aprox)\n",
        "        fx[0] = f1(aprox[0], aprox[1])\n",
        "        fx[1] = f2(aprox[0], aprox[1])\n",
        "\n",
        "        # FORMA ITERATIVA DEL METODO DE NEWTON PARA SISTEMAS NO LIENALES\n",
        "        aprox = aprox - LA.solve(jacob, fx)\n",
        "\n",
        "        # se incrementa el contador\n",
        "        n+=1\n",
        "\n",
        "    # El valor devuelto es la aproximacion\n",
        "    return aprox"
      ],
      "metadata": {
        "id": "eA9fn7elIwRq"
      },
      "execution_count": 7,
      "outputs": []
    },
    {
      "cell_type": "code",
      "source": [
        "def main():\n",
        "    #Aproximacion inicial (X=(0.0,0.0))\n",
        "    ap = np.zeros([2])\n",
        "    sol = NewtonVarias(ap)\n",
        "    print('Aproximacion de la solucion')\n",
        "    print(sol)\n",
        "    print('Aproximacion evaluada en f1')\n",
        "    print(f1(sol[0], sol[1]))\n",
        "    print('Aproximacion evaluada en f2')\n",
        "    print(f2(sol[0], sol[1]))\n",
        "\n",
        "main()"
      ],
      "metadata": {
        "colab": {
          "base_uri": "https://localhost:8080/"
        },
        "id": "79dQ6HnSJfWJ",
        "outputId": "7e8d3814-e72a-4a21-afca-b38a41c0a82f"
      },
      "execution_count": 8,
      "outputs": [
        {
          "output_type": "stream",
          "name": "stdout",
          "text": [
            "Aproximacion de la solucion\n",
            "[0.56714329 0.56714329]\n",
            "Aproximacion evaluada en f1\n",
            "-1.1102230246251565e-16\n",
            "Aproximacion evaluada en f2\n",
            "-1.1102230246251565e-16\n"
          ]
        }
      ]
    }
  ]
}