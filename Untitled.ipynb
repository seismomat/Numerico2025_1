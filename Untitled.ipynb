{
  "cells": [
    {
      "cell_type": "markdown",
      "metadata": {
        "id": "view-in-github",
        "colab_type": "text"
      },
      "source": [
        "<a href=\"https://colab.research.google.com/github/seismomat/Numerico2025_1/blob/main/Untitled.ipynb\" target=\"_parent\"><img src=\"https://colab.research.google.com/assets/colab-badge.svg\" alt=\"Open In Colab\"/></a>"
      ]
    },
    {
      "cell_type": "code",
      "execution_count": 1,
      "id": "7998906b",
      "metadata": {
        "id": "7998906b"
      },
      "outputs": [],
      "source": [
        "import numpy as np\n",
        "from numpy import linalg as LA"
      ]
    },
    {
      "cell_type": "code",
      "execution_count": null,
      "id": "466de940",
      "metadata": {
        "id": "466de940"
      },
      "outputs": [],
      "source": [
        "def FactLU(A):\n",
        "  U=np.copy(A)\n",
        "  n=A.shape[1]\n",
        "  L=np.eye(n)\n",
        "  for j in range(n):\n",
        "    Lj=np.eye(n)\n",
        "    for i in range(j+1,n):\n",
        "      Lj[i,j]=-U[i,j]/U[j,j]\n",
        "    L=L@Lj\n",
        "    #print(Lj,j)\n",
        "    U=Lj@U\n",
        "  L=2*np.eye(n)-L\n",
        "  return L,U\n",
        "\n",
        "def SustDelante(L,b):\n",
        "  x=np.zeros_like(b)\n",
        "  n=L.shape[0]# cantidad de renglones de L\n",
        "  for i in range(n):\n",
        "    sum=0.0\n",
        "    for j in range(i):\n",
        "      sum+=L[i,j]*x[j]\n",
        "    x[i]=(b[i]-sum)/L[i,i]\n",
        "\n",
        "  return x\n",
        "\n",
        "def SustAtras(U,y):\n",
        "  x=np.zeros_like(y)\n",
        "  n=U.shape[0]# cantidad de renglones de U\n",
        "  x[n-1]=y[n-1]/U[n-1][n-1]\n",
        "\n",
        "  for i in range(n-2,-1,-1):\n",
        "    sum=0.0\n",
        "    for j in range(i+1,n):\n",
        "      sum+=U[i,j]*x[j]\n",
        "    x[i]=(y[i]-sum)/U[i,i]\n",
        "\n",
        "  return x\n",
        "\n",
        "def SolverLU(A,b):\n",
        "  L,U=FactLU(A)\n",
        "  y=SustDelante(L,b)\n",
        "  x=SustAtras(U,y)\n",
        "\n",
        "  return x"
      ]
    },
    {
      "cell_type": "code",
      "execution_count": null,
      "id": "31c581e3",
      "metadata": {
        "id": "31c581e3"
      },
      "outputs": [],
      "source": [
        "A=np.array([[1.,2.,4.],[2.,1.,3.],[3.,2.,4]])\n",
        "y=np.array([1,2,3])"
      ]
    },
    {
      "cell_type": "code",
      "execution_count": null,
      "id": "2fb305c2",
      "metadata": {
        "id": "2fb305c2"
      },
      "outputs": [],
      "source": [
        "np.argmax(A[0,:]) # ncuentra el valor máximo de la matriz\n",
        "A[[0,2]]=A[[2,0]] # Intercambia el renglon 0 con el 2"
      ]
    },
    {
      "cell_type": "code",
      "execution_count": null,
      "id": "18d5cf50",
      "metadata": {
        "id": "18d5cf50"
      },
      "outputs": [],
      "source": [
        "def Permutaciones(A,b):\n",
        "    U=np.copy(A)\n",
        "    x=np.copy(b)\n",
        "    Ps=[]\n",
        "    for j in range(U.shape[0]):\n",
        "        P=np.eye(U.shape[0])\n",
        "        k=np.argmax(np.abs(U[j:,j]))+j\n",
        "        U[[j,k]]=U[[k,j]]\n",
        "        P[[j,k]]=P[[k,j]]\n",
        "        b[[j,k]]=b[[k,j]]\n",
        "\n",
        "        Ps.append(P)\n",
        "\n",
        "    return Ps,U,b"
      ]
    },
    {
      "cell_type": "code",
      "execution_count": null,
      "id": "e318744d",
      "metadata": {
        "id": "e318744d"
      },
      "outputs": [],
      "source": [
        "Ps,A_g,b_g=Permutaciones(A,y)\n",
        "x=SolverLU(A_g,b_g)"
      ]
    },
    {
      "cell_type": "code",
      "execution_count": null,
      "id": "6d715c1d",
      "metadata": {
        "id": "6d715c1d",
        "outputId": "ba70319c-f193-4ca8-c0af-33a0ea217e0f"
      },
      "outputs": [
        {
          "data": {
            "text/plain": [
              "array([-1,  0,  1])"
            ]
          },
          "execution_count": 7,
          "metadata": {},
          "output_type": "execute_result"
        }
      ],
      "source": [
        "x# resultado"
      ]
    },
    {
      "cell_type": "code",
      "execution_count": null,
      "id": "f93ce7c8",
      "metadata": {
        "id": "f93ce7c8"
      },
      "outputs": [],
      "source": []
    }
  ],
  "metadata": {
    "kernelspec": {
      "display_name": "Python 3 (ipykernel)",
      "language": "python",
      "name": "python3"
    },
    "language_info": {
      "codemirror_mode": {
        "name": "ipython",
        "version": 3
      },
      "file_extension": ".py",
      "mimetype": "text/x-python",
      "name": "python",
      "nbconvert_exporter": "python",
      "pygments_lexer": "ipython3",
      "version": "3.9.12"
    },
    "colab": {
      "provenance": [],
      "include_colab_link": true
    }
  },
  "nbformat": 4,
  "nbformat_minor": 5
}