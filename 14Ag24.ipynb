{
  "nbformat": 4,
  "nbformat_minor": 0,
  "metadata": {
    "colab": {
      "provenance": [],
      "authorship_tag": "ABX9TyPt2wZwsOfzxRraCNuRIw3/",
      "include_colab_link": true
    },
    "kernelspec": {
      "name": "python3",
      "display_name": "Python 3"
    },
    "language_info": {
      "name": "python"
    }
  },
  "cells": [
    {
      "cell_type": "markdown",
      "metadata": {
        "id": "view-in-github",
        "colab_type": "text"
      },
      "source": [
        "<a href=\"https://colab.research.google.com/github/seismomat/Numerico2025_1/blob/main/14Ag24.ipynb\" target=\"_parent\"><img src=\"https://colab.research.google.com/assets/colab-badge.svg\" alt=\"Open In Colab\"/></a>"
      ]
    },
    {
      "cell_type": "markdown",
      "source": [
        "#Estructuras de control"
      ],
      "metadata": {
        "id": "oaPZRXIC9SRK"
      }
    },
    {
      "cell_type": "markdown",
      "source": [
        "##if sencillo\n",
        "\n",
        "if sentencia:\n",
        "  \n",
        "  codigo\n"
      ],
      "metadata": {
        "id": "LVWNysSe9mgB"
      }
    },
    {
      "cell_type": "code",
      "source": [
        "if False:\n",
        "  print(\"Hola?\")"
      ],
      "metadata": {
        "id": "uo1Yli449ZOd"
      },
      "execution_count": 2,
      "outputs": []
    },
    {
      "cell_type": "code",
      "source": [
        "if True:\n",
        "  #sentencia siempre tiene  ue cumplirse\n",
        "  print(\"Hola?\")"
      ],
      "metadata": {
        "colab": {
          "base_uri": "https://localhost:8080/"
        },
        "id": "VrjIWQAF9899",
        "outputId": "29739f92-e86d-45b5-8b75-f38a93dfffbc"
      },
      "execution_count": 3,
      "outputs": [
        {
          "output_type": "stream",
          "name": "stdout",
          "text": [
            "Hola?\n"
          ]
        }
      ]
    },
    {
      "cell_type": "code",
      "source": [
        "a=1\n",
        "b=2\n",
        "\n",
        "if a>b:\n",
        "  print(\"a es mayor que b\")\n",
        "\n",
        "if a<b:\n",
        "  print(\"a es menor que b\")"
      ],
      "metadata": {
        "colab": {
          "base_uri": "https://localhost:8080/"
        },
        "id": "sJviNUpb-Ntf",
        "outputId": "bc19227f-eb83-49de-9666-b252da6b6667"
      },
      "execution_count": 8,
      "outputs": [
        {
          "output_type": "stream",
          "name": "stdout",
          "text": [
            "a es menor que b\n"
          ]
        }
      ]
    },
    {
      "cell_type": "code",
      "source": [
        "a=20\n",
        "b=20\n",
        "\n",
        "if a%b==0:\n",
        "  print(\" tienen residuo cero\")\n",
        "if a==b:\n",
        "  print(\"a es igual a b\")"
      ],
      "metadata": {
        "colab": {
          "base_uri": "https://localhost:8080/"
        },
        "id": "FqObNsvE-U5b",
        "outputId": "876910f2-3b03-49bd-80fb-e5b6e3250020"
      },
      "execution_count": 19,
      "outputs": [
        {
          "output_type": "stream",
          "name": "stdout",
          "text": [
            " tienen residuo cero\n",
            "a es igual a b\n"
          ]
        }
      ]
    },
    {
      "cell_type": "code",
      "source": [
        "a=20\n",
        "b=20\n",
        "\n",
        "if a%b==0:\n",
        "  print(\" a % b == 0\")\n",
        "elif a==b:\n",
        "  print(\"a es igual a b\")"
      ],
      "metadata": {
        "colab": {
          "base_uri": "https://localhost:8080/"
        },
        "id": "ZVnQil4h_Clg",
        "outputId": "536cb57a-7aac-47e3-b14e-43dc9f25a74f"
      },
      "execution_count": 21,
      "outputs": [
        {
          "output_type": "stream",
          "name": "stdout",
          "text": [
            " a % b == 0\n"
          ]
        }
      ]
    },
    {
      "cell_type": "code",
      "source": [
        "a=2\n",
        "b=2\n",
        "\n",
        "if a<b:\n",
        "  # si se cumple\n",
        "  # has lo que viene\n",
        "  print(\"a menor que b\")\n",
        "\n",
        "elif a>b:\n",
        "  # si no se cumplio lo anterior\n",
        "  # checa si ahora se cumple\n",
        "  # y has lo que viene\n",
        "  print(\"a mayor que b\")\n",
        "\n",
        "else:\n",
        "  #si no se cumplio nada de lo anterior\n",
        "  # has lo que viene\n",
        "  print(\" a es igual b\")"
      ],
      "metadata": {
        "colab": {
          "base_uri": "https://localhost:8080/"
        },
        "id": "-C1KNyI2_sLZ",
        "outputId": "a26a77b4-fa6e-4b3f-fc9e-b1696da23a9b"
      },
      "execution_count": 23,
      "outputs": [
        {
          "output_type": "stream",
          "name": "stdout",
          "text": [
            " a es igual b\n"
          ]
        }
      ]
    },
    {
      "cell_type": "code",
      "source": [
        "a=input(\"Ingrese el numero a analizar\")\n",
        "type(a)"
      ],
      "metadata": {
        "colab": {
          "base_uri": "https://localhost:8080/"
        },
        "id": "ry-ypT7GAzOI",
        "outputId": "75232a13-067a-4d78-a9a9-3e6d54e37267"
      },
      "execution_count": 25,
      "outputs": [
        {
          "name": "stdout",
          "output_type": "stream",
          "text": [
            "Ingrese el numero a analizar5\n"
          ]
        },
        {
          "output_type": "execute_result",
          "data": {
            "text/plain": [
              "str"
            ]
          },
          "metadata": {},
          "execution_count": 25
        }
      ]
    },
    {
      "cell_type": "code",
      "source": [
        "a=float(input(\"Ingrese el numero a analizar\\n\"))\n",
        "type(a)# me dice el tipo de dato\n",
        "if a%2==0:\n",
        "  print(str(a)+\" Si es par\") # concateno a con el letrero\n",
        "  if a%4==0:\n",
        "    print(str(a)+\" es multiplo de 4\")\n",
        "  else:\n",
        "    print(str(a)+\" No es multiplot de 4\")\n",
        "else:\n",
        "  print(str(a)+ \"No es par\")"
      ],
      "metadata": {
        "colab": {
          "base_uri": "https://localhost:8080/"
        },
        "id": "o9BBwdBABh38",
        "outputId": "3f74c220-1c02-4ebf-d5a2-e55d9b90358d"
      },
      "execution_count": 34,
      "outputs": [
        {
          "output_type": "stream",
          "name": "stdout",
          "text": [
            "Ingrese el numero a analizar\n",
            "16\n",
            "16.0 Si es par\n",
            "16.0 es multiplo de 4\n"
          ]
        }
      ]
    },
    {
      "cell_type": "markdown",
      "source": [
        "Bucle WHILE"
      ],
      "metadata": {
        "id": "189Ra4QADlTL"
      }
    },
    {
      "cell_type": "code",
      "source": [
        "\"\"\"\n",
        "while True:\n",
        "  print(\"Hola!\")\n",
        "  # no tiene condicion de paro\n",
        "\"\"\""
      ],
      "metadata": {
        "colab": {
          "base_uri": "https://localhost:8080/",
          "height": 35
        },
        "id": "oAIu-r1MB0ac",
        "outputId": "f08eb683-a365-4909-8ba5-821868618fd0"
      },
      "execution_count": 36,
      "outputs": [
        {
          "output_type": "execute_result",
          "data": {
            "text/plain": [
              "'\\nwhile True:\\n  print(\"Hola!\")\\n  # no tiene condicion de paro\\n'"
            ],
            "application/vnd.google.colaboratory.intrinsic+json": {
              "type": "string"
            }
          },
          "metadata": {},
          "execution_count": 36
        }
      ]
    },
    {
      "cell_type": "code",
      "source": [
        "contador=0\n",
        "\n",
        "while contador<5:\n",
        "  print(\"Hola! \"+str(contador))\n",
        "  contador+=1\n",
        "  #contador=contador +1"
      ],
      "metadata": {
        "colab": {
          "base_uri": "https://localhost:8080/"
        },
        "id": "aalN7vcKDsb-",
        "outputId": "4ac12c73-fca5-41ce-898e-f2f012958bde"
      },
      "execution_count": 38,
      "outputs": [
        {
          "output_type": "stream",
          "name": "stdout",
          "text": [
            "Hola! 0\n",
            "Hola! 1\n",
            "Hola! 2\n",
            "Hola! 3\n",
            "Hola! 4\n"
          ]
        }
      ]
    },
    {
      "cell_type": "markdown",
      "source": [
        "Bucle FOR"
      ],
      "metadata": {
        "id": "om9YmsbUEsqy"
      }
    },
    {
      "cell_type": "code",
      "source": [
        "lista=[\"manzana\",\"mango\",\"kiwi\"]\n",
        "\n",
        "for fruta in lista:\n",
        "  print(fruta)"
      ],
      "metadata": {
        "colab": {
          "base_uri": "https://localhost:8080/"
        },
        "id": "w3jpT-1VEgxU",
        "outputId": "45f4f8d1-8d87-484e-cc0a-eb2a1aae7158"
      },
      "execution_count": 39,
      "outputs": [
        {
          "output_type": "stream",
          "name": "stdout",
          "text": [
            "manzana\n",
            "mango\n",
            "kiwi\n"
          ]
        }
      ]
    },
    {
      "cell_type": "code",
      "source": [
        "for i in range(6):\n",
        "  print(i)"
      ],
      "metadata": {
        "colab": {
          "base_uri": "https://localhost:8080/"
        },
        "id": "U12C1e9tFB4x",
        "outputId": "44e4e710-23ed-4f7d-b27d-e080cdc301a4"
      },
      "execution_count": 40,
      "outputs": [
        {
          "output_type": "stream",
          "name": "stdout",
          "text": [
            "0\n",
            "1\n",
            "2\n",
            "3\n",
            "4\n",
            "5\n"
          ]
        }
      ]
    },
    {
      "cell_type": "markdown",
      "source": [
        "Sentencia **BREAK**"
      ],
      "metadata": {
        "id": "t42NoekYFm4w"
      }
    },
    {
      "cell_type": "code",
      "source": [
        "lista=[\"manzana\",\"mango\",\"kiwi\",\"platano\"]\n",
        "\n",
        "for fruta in lista:\n",
        "  print(fruta)\n",
        "  if fruta == \"kiwi\":\n",
        "    break"
      ],
      "metadata": {
        "colab": {
          "base_uri": "https://localhost:8080/"
        },
        "id": "iotML5sQFUaz",
        "outputId": "c4d0e897-ff98-4eba-9ca7-9f5245f0eeb6"
      },
      "execution_count": 42,
      "outputs": [
        {
          "output_type": "stream",
          "name": "stdout",
          "text": [
            "manzana\n",
            "mango\n",
            "kiwi\n"
          ]
        }
      ]
    },
    {
      "cell_type": "code",
      "source": [],
      "metadata": {
        "id": "HTDQc9IJF9ut"
      },
      "execution_count": null,
      "outputs": []
    }
  ]
}