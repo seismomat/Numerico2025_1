{
  "nbformat": 4,
  "nbformat_minor": 0,
  "metadata": {
    "colab": {
      "provenance": [],
      "authorship_tag": "ABX9TyMsrFBXcE85UkwP0HVBbdTz",
      "include_colab_link": true
    },
    "kernelspec": {
      "name": "python3",
      "display_name": "Python 3"
    },
    "language_info": {
      "name": "python"
    }
  },
  "cells": [
    {
      "cell_type": "markdown",
      "metadata": {
        "id": "view-in-github",
        "colab_type": "text"
      },
      "source": [
        "<a href=\"https://colab.research.google.com/github/seismomat/Numerico2025_1/blob/main/12Ag24_num.ipynb\" target=\"_parent\"><img src=\"https://colab.research.google.com/assets/colab-badge.svg\" alt=\"Open In Colab\"/></a>"
      ]
    },
    {
      "cell_type": "markdown",
      "source": [
        "Comenzamos con la declaracion de variables\n",
        "\n",
        "$$\\sum_{i=1}^{n} f(x)$$"
      ],
      "metadata": {
        "id": "erNqV5XqtfJl"
      }
    },
    {
      "cell_type": "code",
      "source": [
        "entero=1 # numero entero\n",
        "flotante= 1.0 #numero flotante\n",
        "logicos= True # logicos\n",
        "string=\"a\" # string\n",
        "cadena=\"cadena\" # cadena"
      ],
      "metadata": {
        "id": "haZvhzgqtozE"
      },
      "execution_count": null,
      "outputs": []
    },
    {
      "cell_type": "markdown",
      "source": [
        "Operaciones"
      ],
      "metadata": {
        "id": "EDdKikbkuyy-"
      }
    },
    {
      "cell_type": "code",
      "source": [
        "1+1, 2*5, 2**4, 2/4, 2//4"
      ],
      "metadata": {
        "colab": {
          "base_uri": "https://localhost:8080/"
        },
        "id": "hariGeyxuyQg",
        "outputId": "50b3f159-d70b-44e1-863a-fdfe6ae60707"
      },
      "execution_count": null,
      "outputs": [
        {
          "output_type": "execute_result",
          "data": {
            "text/plain": [
              "(2, 10, 16, 0.5, 0)"
            ]
          },
          "metadata": {},
          "execution_count": 3
        }
      ]
    },
    {
      "cell_type": "markdown",
      "source": [
        "Estructuras de datos"
      ],
      "metadata": {
        "id": "06sSI1RavMsl"
      }
    },
    {
      "cell_type": "markdown",
      "source": [
        "Listas"
      ],
      "metadata": {
        "id": "MyMSUJDUvPH9"
      }
    },
    {
      "cell_type": "code",
      "source": [
        "a=[] # declaracion nula"
      ],
      "metadata": {
        "id": "kOQNMTiuvMD5"
      },
      "execution_count": null,
      "outputs": []
    },
    {
      "cell_type": "code",
      "source": [
        "a=[1,2,3] #lista de enteros\n",
        "print(a)\n",
        "a"
      ],
      "metadata": {
        "colab": {
          "base_uri": "https://localhost:8080/"
        },
        "id": "d3qy0jaYulTc",
        "outputId": "8635ca8a-eac0-4d4a-f63f-760a9bbf8378"
      },
      "execution_count": null,
      "outputs": [
        {
          "output_type": "stream",
          "name": "stdout",
          "text": [
            "[1, 2, 3]\n"
          ]
        },
        {
          "output_type": "execute_result",
          "data": {
            "text/plain": [
              "[1, 2, 3]"
            ]
          },
          "metadata": {},
          "execution_count": 9
        }
      ]
    },
    {
      "cell_type": "code",
      "source": [
        "a=[\"a\",True, 5.0]# lista de datos mezclados\n",
        "a"
      ],
      "metadata": {
        "colab": {
          "base_uri": "https://localhost:8080/"
        },
        "id": "F24i3itjveGw",
        "outputId": "37c20a66-6c2f-4c57-b23f-9756289eb7b0"
      },
      "execution_count": null,
      "outputs": [
        {
          "output_type": "execute_result",
          "data": {
            "text/plain": [
              "['a', True, 5.0]"
            ]
          },
          "metadata": {},
          "execution_count": 11
        }
      ]
    },
    {
      "cell_type": "code",
      "source": [
        "a=[];\n",
        "a.append([1,2,3])\n",
        "a.append(2)\n",
        "a"
      ],
      "metadata": {
        "colab": {
          "base_uri": "https://localhost:8080/"
        },
        "id": "aC_KjTBPvr8Q",
        "outputId": "73df9102-3fed-405a-9c7e-bb35bdc9156c"
      },
      "execution_count": null,
      "outputs": [
        {
          "output_type": "execute_result",
          "data": {
            "text/plain": [
              "[[1, 2, 3], 2]"
            ]
          },
          "metadata": {},
          "execution_count": 15
        }
      ]
    },
    {
      "cell_type": "code",
      "source": [
        "a=[];\n",
        "a.append(1)\n",
        "a.append(2)\n",
        "a.append(3)\n",
        "a.append(2)\n",
        "a"
      ],
      "metadata": {
        "colab": {
          "base_uri": "https://localhost:8080/"
        },
        "id": "oHeVrxYWv-YI",
        "outputId": "6576d82f-d57e-411c-87f2-cc8fa5b03ebf"
      },
      "execution_count": null,
      "outputs": [
        {
          "output_type": "execute_result",
          "data": {
            "text/plain": [
              "[1, 2, 3, 2]"
            ]
          },
          "metadata": {},
          "execution_count": 20
        }
      ]
    },
    {
      "cell_type": "code",
      "source": [
        "a+a+a #concatenacion de listas"
      ],
      "metadata": {
        "colab": {
          "base_uri": "https://localhost:8080/"
        },
        "id": "2AxJ3xjJwSLQ",
        "outputId": "9c874a1c-87ba-4827-fbc4-b3f8e08c31d4"
      },
      "execution_count": null,
      "outputs": [
        {
          "output_type": "execute_result",
          "data": {
            "text/plain": [
              "[1, 2, 3, 2, 1, 2, 3, 2, 1, 2, 3, 2]"
            ]
          },
          "metadata": {},
          "execution_count": 23
        }
      ]
    },
    {
      "cell_type": "code",
      "source": [
        "a.remove(2) #eliminar elemento\n",
        "a"
      ],
      "metadata": {
        "colab": {
          "base_uri": "https://localhost:8080/"
        },
        "id": "isP4DHVYwiD8",
        "outputId": "97157295-ebde-4c13-fab9-dbd38c7f1cbe"
      },
      "execution_count": null,
      "outputs": [
        {
          "output_type": "execute_result",
          "data": {
            "text/plain": [
              "[1, 3]"
            ]
          },
          "metadata": {},
          "execution_count": 25
        }
      ]
    },
    {
      "cell_type": "code",
      "source": [
        "a=[\"manzana\",\"pera\",\"fresa\"]\n",
        "a"
      ],
      "metadata": {
        "colab": {
          "base_uri": "https://localhost:8080/"
        },
        "id": "VvwUTGLQwybn",
        "outputId": "1941060b-9886-4a42-dee8-b8e604c3ddaf"
      },
      "execution_count": null,
      "outputs": [
        {
          "output_type": "execute_result",
          "data": {
            "text/plain": [
              "['manzana', 'pera', 'fresa']"
            ]
          },
          "metadata": {},
          "execution_count": 29
        }
      ]
    },
    {
      "cell_type": "code",
      "source": [
        "a.remove(\"pera\") #eliminar elemento\n",
        "a"
      ],
      "metadata": {
        "colab": {
          "base_uri": "https://localhost:8080/"
        },
        "id": "rebMEPDtxBz3",
        "outputId": "184d8e0a-2353-4e81-b64b-b77c89fcc38d"
      },
      "execution_count": null,
      "outputs": [
        {
          "output_type": "execute_result",
          "data": {
            "text/plain": [
              "['manzana', 'fresa']"
            ]
          },
          "metadata": {},
          "execution_count": 30
        }
      ]
    },
    {
      "cell_type": "code",
      "source": [
        "a=[\"manzana\",\"pera\",\"fresa\",\"kiwi\"]\n",
        "a"
      ],
      "metadata": {
        "colab": {
          "base_uri": "https://localhost:8080/"
        },
        "id": "t5tPnoT7xEF2",
        "outputId": "ce2fd018-1329-4126-d710-653fec2569b6"
      },
      "execution_count": null,
      "outputs": [
        {
          "output_type": "execute_result",
          "data": {
            "text/plain": [
              "['manzana', 'pera', 'fresa', 'kiwi']"
            ]
          },
          "metadata": {},
          "execution_count": 32
        }
      ]
    },
    {
      "cell_type": "code",
      "source": [
        "a[-1],a[3] #acceder a elementos"
      ],
      "metadata": {
        "colab": {
          "base_uri": "https://localhost:8080/"
        },
        "id": "CQQ0gG_fxcHE",
        "outputId": "67f5f87f-4df0-432f-8fd3-dea055760901"
      },
      "execution_count": null,
      "outputs": [
        {
          "output_type": "execute_result",
          "data": {
            "text/plain": [
              "('kiwi', 'kiwi')"
            ]
          },
          "metadata": {},
          "execution_count": 37
        }
      ]
    },
    {
      "cell_type": "code",
      "source": [
        "a[-2],a[2] #acceder a elementos"
      ],
      "metadata": {
        "colab": {
          "base_uri": "https://localhost:8080/"
        },
        "id": "0ojLFf3oxlYC",
        "outputId": "bd3cab78-177d-4da4-b6ad-a82894ae619b"
      },
      "execution_count": null,
      "outputs": [
        {
          "output_type": "execute_result",
          "data": {
            "text/plain": [
              "('fresa', 'fresa')"
            ]
          },
          "metadata": {},
          "execution_count": 38
        }
      ]
    },
    {
      "cell_type": "code",
      "source": [
        "len(a)# tamaño de la lista"
      ],
      "metadata": {
        "colab": {
          "base_uri": "https://localhost:8080/"
        },
        "id": "aQK2vIs3x1UR",
        "outputId": "dfb88363-52dc-4f84-bf96-279db28ea5dd"
      },
      "execution_count": null,
      "outputs": [
        {
          "output_type": "execute_result",
          "data": {
            "text/plain": [
              "4"
            ]
          },
          "metadata": {},
          "execution_count": 39
        }
      ]
    },
    {
      "cell_type": "markdown",
      "source": [
        "Diccionarios"
      ],
      "metadata": {
        "id": "0duPvdawyKBC"
      }
    },
    {
      "cell_type": "code",
      "source": [
        "b={\"llave1\":5,\n",
        "   \"llave2\":[1,2,3],\n",
        "   \"llave3\":False\n",
        "} # declaracion del diccionario"
      ],
      "metadata": {
        "id": "rZ7mUByix-op"
      },
      "execution_count": null,
      "outputs": []
    },
    {
      "cell_type": "code",
      "source": [
        "b.keys()"
      ],
      "metadata": {
        "colab": {
          "base_uri": "https://localhost:8080/"
        },
        "id": "ptOn0p_LyaC5",
        "outputId": "3ccba5ad-da41-4574-f108-ea1f1078807c"
      },
      "execution_count": null,
      "outputs": [
        {
          "output_type": "execute_result",
          "data": {
            "text/plain": [
              "dict_keys(['llave1', 'llave2', 'llave3'])"
            ]
          },
          "metadata": {},
          "execution_count": 42
        }
      ]
    },
    {
      "cell_type": "code",
      "source": [
        "b.values()"
      ],
      "metadata": {
        "colab": {
          "base_uri": "https://localhost:8080/"
        },
        "id": "_2wRqBUiyrgq",
        "outputId": "dfb1d8a7-b355-4279-80f2-78448cf4f46d"
      },
      "execution_count": null,
      "outputs": [
        {
          "output_type": "execute_result",
          "data": {
            "text/plain": [
              "dict_values([5, [1, 2, 3], False])"
            ]
          },
          "metadata": {},
          "execution_count": 43
        }
      ]
    },
    {
      "cell_type": "code",
      "source": [],
      "metadata": {
        "id": "4QTgYKeoyvtv"
      },
      "execution_count": null,
      "outputs": []
    }
  ]
}