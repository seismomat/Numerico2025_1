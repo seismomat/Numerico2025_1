{
  "nbformat": 4,
  "nbformat_minor": 0,
  "metadata": {
    "colab": {
      "provenance": [],
      "authorship_tag": "ABX9TyPve8MfYEyWlR+x4iwoghSA",
      "include_colab_link": true
    },
    "kernelspec": {
      "name": "python3",
      "display_name": "Python 3"
    },
    "language_info": {
      "name": "python"
    }
  },
  "cells": [
    {
      "cell_type": "markdown",
      "metadata": {
        "id": "view-in-github",
        "colab_type": "text"
      },
      "source": [
        "<a href=\"https://colab.research.google.com/github/seismomat/Numerico2025_1/blob/main/GrandSmith.ipynb\" target=\"_parent\"><img src=\"https://colab.research.google.com/assets/colab-badge.svg\" alt=\"Open In Colab\"/></a>"
      ]
    },
    {
      "cell_type": "code",
      "execution_count": 2,
      "metadata": {
        "id": "17XDllOQi9lv"
      },
      "outputs": [],
      "source": [
        "import numpy as np\n",
        "from numpy import linalg as la"
      ]
    },
    {
      "cell_type": "code",
      "source": [
        "A=[[1,-1,4.0],[1.0,4.0,-2.],[1,4.0,2.],[1,-1.,0.]]\n",
        "A=np.array(A,dtype=float)\n",
        "A"
      ],
      "metadata": {
        "colab": {
          "base_uri": "https://localhost:8080/"
        },
        "id": "Nyk6LWfNjA2j",
        "outputId": "111bc9ad-0abe-4e42-d41d-6aa44089b4ee"
      },
      "execution_count": 3,
      "outputs": [
        {
          "output_type": "execute_result",
          "data": {
            "text/plain": [
              "array([[ 1., -1.,  4.],\n",
              "       [ 1.,  4., -2.],\n",
              "       [ 1.,  4.,  2.],\n",
              "       [ 1., -1.,  0.]])"
            ]
          },
          "metadata": {},
          "execution_count": 3
        }
      ]
    },
    {
      "cell_type": "code",
      "source": [
        "\n",
        "def QR(A):\n",
        "  Q=np.empty_like(A) ## matriz Q\n",
        "  R=np.zeros([A.shape[1],A.shape[1]]) ## matriz cuadrada\n",
        "  vi=np.zeros([A.shape[1]])\n",
        "\n",
        "  for i in range(A.shape[1]):\n",
        "    vi=A[:,i]\n",
        "    for j in range(i):\n",
        "      R[j,i]=np.dot(Q[:,j].T,vi)\n",
        "      vi = vi - R[j,i]*Q[:,j]\n",
        "      #vi = a2 - (q1T, a2)* q1\n",
        "    R[i,i]=np.linalg.norm(vi,2)\n",
        "    Q[:,i]=vi/R[i,i]\n",
        "\n",
        "  return Q,R"
      ],
      "metadata": {
        "id": "pChsbOgLjEq4"
      },
      "execution_count": 4,
      "outputs": []
    },
    {
      "cell_type": "code",
      "source": [
        "\n",
        "Q,R=QR(A)\n",
        "# mostrar ambas matrices\n",
        "print(Q)\n",
        "print(R)\n",
        "\n",
        "# comprobacion\n",
        "print(np.matmul(Q,R))"
      ],
      "metadata": {
        "colab": {
          "base_uri": "https://localhost:8080/"
        },
        "id": "Z9jIQ-_MjJR4",
        "outputId": "61ab5519-94f5-4586-ac20-32ab5ef15a5f"
      },
      "execution_count": 5,
      "outputs": [
        {
          "output_type": "stream",
          "name": "stdout",
          "text": [
            "[[ 0.5 -0.5  0.5]\n",
            " [ 0.5  0.5 -0.5]\n",
            " [ 0.5  0.5  0.5]\n",
            " [ 0.5 -0.5 -0.5]]\n",
            "[[ 2.  3.  2.]\n",
            " [ 0.  5. -2.]\n",
            " [ 0.  0.  4.]]\n",
            "[[ 1. -1.  4.]\n",
            " [ 1.  4. -2.]\n",
            " [ 1.  4.  2.]\n",
            " [ 1. -1.  0.]]\n"
          ]
        }
      ]
    },
    {
      "cell_type": "code",
      "source": [],
      "metadata": {
        "id": "baD0dMtWjL65"
      },
      "execution_count": null,
      "outputs": []
    }
  ]
}