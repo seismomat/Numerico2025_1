{
 "cells": [
  {
   "cell_type": "code",
   "execution_count": 1,
   "id": "90b231a9",
   "metadata": {},
   "outputs": [],
   "source": [
    "import numpy as np\n",
    "from numpy import linalg as LA"
   ]
  },
  {
   "cell_type": "code",
   "execution_count": 2,
   "id": "7d4ca22f",
   "metadata": {},
   "outputs": [],
   "source": [
    "def FactLU(A):\n",
    "  U=np.copy(A)\n",
    "  n=A.shape[1]\n",
    "  L=np.eye(n)\n",
    "  for j in range(n):\n",
    "    Lj=np.eye(n)\n",
    "    for i in range(j+1,n):\n",
    "      Lj[i,j]=-U[i,j]/U[j,j]\n",
    "    L=L@Lj\n",
    "    #print(Lj,j)\n",
    "    U=Lj@U\n",
    "  L=2*np.eye(n)-L\n",
    "  return L,U\n",
    "\n",
    "def SustDelante(L,b):\n",
    "  x=np.zeros_like(b)\n",
    "  n=L.shape[0]# cantidad de renglones de L\n",
    "  for i in range(n):\n",
    "    sum=0.0\n",
    "    for j in range(i):\n",
    "      sum+=L[i,j]*x[j]\n",
    "    x[i]=(b[i]-sum)/L[i,i]\n",
    "\n",
    "  return x\n",
    "\n",
    "def SustAtras(U,y):\n",
    "  x=np.zeros_like(y)\n",
    "  n=U.shape[0]# cantidad de renglones de U\n",
    "  x[n-1]=y[n-1]/U[n-1][n-1]\n",
    "\n",
    "  for i in range(n-2,-1,-1):\n",
    "    sum=0.0\n",
    "    for j in range(i+1,n):\n",
    "      sum+=U[i,j]*x[j]\n",
    "    x[i]=(y[i]-sum)/U[i,i]\n",
    "\n",
    "  return x\n",
    "\n",
    "def SolverLU(A,b):\n",
    "  L,U=FactLU(A)\n",
    "  y=SustDelante(L,b)\n",
    "  x=SustAtras(U,y)\n",
    "\n",
    "  return x"
   ]
  },
  {
   "cell_type": "code",
   "execution_count": 3,
   "id": "bd0ec761",
   "metadata": {},
   "outputs": [],
   "source": [
    "A=np.array([[1.,2.,4.],[2.,1.,3.],[3.,2.,4]])\n",
    "y=np.array([1,2,3])"
   ]
  },
  {
   "cell_type": "code",
   "execution_count": 4,
   "id": "93abf26e",
   "metadata": {},
   "outputs": [],
   "source": [
    "np.argmax(A[0,:]) # ncuentra el valor máximo de la matriz\n",
    "A[[0,2]]=A[[2,0]] # Intercambia el renglon 0 con el 2"
   ]
  },
  {
   "cell_type": "code",
   "execution_count": 5,
   "id": "216ae3ad",
   "metadata": {},
   "outputs": [],
   "source": [
    "def Permutaciones(A,b):\n",
    "    U=np.copy(A)\n",
    "    x=np.copy(b)\n",
    "    Ps=[]\n",
    "    for j in range(U.shape[0]):\n",
    "        P=np.eye(U.shape[0])\n",
    "        k=np.argmax(np.abs(U[j:,j]))+j\n",
    "        U[[j,k]]=U[[k,j]]\n",
    "        P[[j,k]]=P[[k,j]]\n",
    "        b[[j,k]]=b[[k,j]]\n",
    "\n",
    "        Ps.append(P)\n",
    "\n",
    "    return Ps,U,b"
   ]
  },
  {
   "cell_type": "code",
   "execution_count": 6,
   "id": "b8744a45",
   "metadata": {},
   "outputs": [],
   "source": [
    "Ps,A_g,b_g=Permutaciones(A,y)\n",
    "x=SolverLU(A_g,b_g)"
   ]
  },
  {
   "cell_type": "code",
   "execution_count": 7,
   "id": "743581f4",
   "metadata": {},
   "outputs": [
    {
     "data": {
      "text/plain": [
       "array([-1,  0,  1])"
      ]
     },
     "execution_count": 7,
     "metadata": {},
     "output_type": "execute_result"
    }
   ],
   "source": [
    "x# resultado"
   ]
  },
  {
   "cell_type": "code",
   "execution_count": null,
   "id": "c5934293",
   "metadata": {},
   "outputs": [],
   "source": []
  }
 ],
 "metadata": {
  "kernelspec": {
   "display_name": "Python 3 (ipykernel)",
   "language": "python",
   "name": "python3"
  },
  "language_info": {
   "codemirror_mode": {
    "name": "ipython",
    "version": 3
   },
   "file_extension": ".py",
   "mimetype": "text/x-python",
   "name": "python",
   "nbconvert_exporter": "python",
   "pygments_lexer": "ipython3",
   "version": "3.9.12"
  }
 },
 "nbformat": 4,
 "nbformat_minor": 5
}
