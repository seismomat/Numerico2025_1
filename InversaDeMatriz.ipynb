{
  "nbformat": 4,
  "nbformat_minor": 0,
  "metadata": {
    "colab": {
      "provenance": [],
      "authorship_tag": "ABX9TyNLt4AHXVF68yAqG5M9150J",
      "include_colab_link": true
    },
    "kernelspec": {
      "name": "python3",
      "display_name": "Python 3"
    },
    "language_info": {
      "name": "python"
    }
  },
  "cells": [
    {
      "cell_type": "markdown",
      "metadata": {
        "id": "view-in-github",
        "colab_type": "text"
      },
      "source": [
        "<a href=\"https://colab.research.google.com/github/seismomat/Numerico2025_1/blob/main/InversaDeMatriz.ipynb\" target=\"_parent\"><img src=\"https://colab.research.google.com/assets/colab-badge.svg\" alt=\"Open In Colab\"/></a>"
      ]
    },
    {
      "cell_type": "code",
      "execution_count": 9,
      "metadata": {
        "id": "BgLgIc9xGzpA"
      },
      "outputs": [],
      "source": [
        "import numpy as np\n",
        "from numpy import linalg as LA"
      ]
    },
    {
      "cell_type": "code",
      "source": [
        "A=np.array([[2,3,-4],[0,-4,2],[1,-1,5]])\n",
        "A"
      ],
      "metadata": {
        "colab": {
          "base_uri": "https://localhost:8080/"
        },
        "id": "fm8Wkx-LJKAi",
        "outputId": "1382335c-bea7-4ae7-923c-cb1129ed3475"
      },
      "execution_count": 3,
      "outputs": [
        {
          "output_type": "execute_result",
          "data": {
            "text/plain": [
              "array([[ 2,  3, -4],\n",
              "       [ 0, -4,  2],\n",
              "       [ 1, -1,  5]])"
            ]
          },
          "metadata": {},
          "execution_count": 3
        }
      ]
    },
    {
      "cell_type": "code",
      "source": [
        "def SubMat(M,row,col):\n",
        "  M1=np.copy(M)\n",
        "  M1=np.delete(M1,row,axis=0)# elimina sobre sobre los renglones\n",
        "  M1=np.delete(M1,col,axis=1)# elimina sobre sobre los renglones\n",
        "  return M1"
      ],
      "metadata": {
        "id": "kNj99tKFJLWX"
      },
      "execution_count": 2,
      "outputs": []
    },
    {
      "cell_type": "code",
      "source": [
        "def DET(M):\n",
        "  if len(M)==2:\n",
        "    return M[0][0]*M[1][1]-(M[0][1]*M[1][0])\n",
        "  else:\n",
        "    deter=0.0\n",
        "    for i in range(len(M)):\n",
        "      deter+= ((-1)**i)*M[0][i]*DET(SubMat(M,0,i))\n",
        "    return deter"
      ],
      "metadata": {
        "id": "0qxaVvWVJod6"
      },
      "execution_count": 7,
      "outputs": []
    },
    {
      "cell_type": "code",
      "source": [
        "DET(A),LA.det(A)"
      ],
      "metadata": {
        "colab": {
          "base_uri": "https://localhost:8080/"
        },
        "id": "4MTSnoWmJ5Jz",
        "outputId": "f1068df8-e09d-4548-b27b-37b0187755dc"
      },
      "execution_count": 10,
      "outputs": [
        {
          "output_type": "execute_result",
          "data": {
            "text/plain": [
              "(-46.0, -46.0)"
            ]
          },
          "metadata": {},
          "execution_count": 10
        }
      ]
    },
    {
      "cell_type": "code",
      "source": [
        "def CoFac(M):\n",
        "  M_CoFa=np.zeros_like(M)\n",
        "\n",
        "  for i in range(M.shape[0]):# va sobre renglones\n",
        "    for j in range(M.shape[1]):#va sobre columnas\n",
        "      M_CoFa[i][j]=((-1)**(i+j))*DET(SubMat(M,i,j))\n",
        "\n",
        "  return M_CoFa"
      ],
      "metadata": {
        "id": "8dzcM7SILoQ-"
      },
      "execution_count": 11,
      "outputs": []
    },
    {
      "cell_type": "code",
      "source": [
        "def Inv(M):\n",
        "  deter=DET(M)\n",
        "  M_CoFa=CoFac(M)\n",
        "  return (1/deter)*M_CoFa.T"
      ],
      "metadata": {
        "id": "DkAE2JN-OqpB"
      },
      "execution_count": 14,
      "outputs": []
    },
    {
      "cell_type": "code",
      "source": [
        "A_inv=Inv(A)\n",
        "A_inv"
      ],
      "metadata": {
        "colab": {
          "base_uri": "https://localhost:8080/"
        },
        "id": "4wYXPiwwOs0_",
        "outputId": "a00dd02b-61dc-4b46-e065-784a675a9923"
      },
      "execution_count": 15,
      "outputs": [
        {
          "output_type": "execute_result",
          "data": {
            "text/plain": [
              "array([[ 0.39130435,  0.23913043,  0.2173913 ],\n",
              "       [-0.04347826, -0.30434783,  0.08695652],\n",
              "       [-0.08695652, -0.10869565,  0.17391304]])"
            ]
          },
          "metadata": {},
          "execution_count": 15
        }
      ]
    },
    {
      "cell_type": "code",
      "source": [
        "A@A_inv"
      ],
      "metadata": {
        "colab": {
          "base_uri": "https://localhost:8080/"
        },
        "id": "_ro_BwAGPWqR",
        "outputId": "02fe14b5-addf-4818-893f-07c471cc0554"
      },
      "execution_count": 16,
      "outputs": [
        {
          "output_type": "execute_result",
          "data": {
            "text/plain": [
              "array([[ 1.00000000e+00, -5.55111512e-17,  0.00000000e+00],\n",
              "       [ 0.00000000e+00,  1.00000000e+00,  0.00000000e+00],\n",
              "       [-5.55111512e-17, -1.38777878e-17,  1.00000000e+00]])"
            ]
          },
          "metadata": {},
          "execution_count": 16
        }
      ]
    },
    {
      "cell_type": "code",
      "source": [
        "A_inv@A"
      ],
      "metadata": {
        "colab": {
          "base_uri": "https://localhost:8080/"
        },
        "id": "XIIcs1jKPaKX",
        "outputId": "b6450d29-7b98-44bf-f9c4-923533d86eb3"
      },
      "execution_count": 17,
      "outputs": [
        {
          "output_type": "execute_result",
          "data": {
            "text/plain": [
              "array([[ 1.00000000e+00, -1.38777878e-16,  2.77555756e-17],\n",
              "       [ 0.00000000e+00,  1.00000000e+00, -5.55111512e-17],\n",
              "       [ 0.00000000e+00,  0.00000000e+00,  1.00000000e+00]])"
            ]
          },
          "metadata": {},
          "execution_count": 17
        }
      ]
    },
    {
      "cell_type": "code",
      "source": [],
      "metadata": {
        "id": "itOlMPcYPf-t"
      },
      "execution_count": null,
      "outputs": []
    }
  ]
}