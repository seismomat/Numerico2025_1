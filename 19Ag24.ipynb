{
  "nbformat": 4,
  "nbformat_minor": 0,
  "metadata": {
    "colab": {
      "provenance": [],
      "authorship_tag": "ABX9TyOsy1V0Kl9wkDa+r18vG2yN",
      "include_colab_link": true
    },
    "kernelspec": {
      "name": "python3",
      "display_name": "Python 3"
    },
    "language_info": {
      "name": "python"
    }
  },
  "cells": [
    {
      "cell_type": "markdown",
      "metadata": {
        "id": "view-in-github",
        "colab_type": "text"
      },
      "source": [
        "<a href=\"https://colab.research.google.com/github/seismomat/Numerico2025_1/blob/main/19Ag24.ipynb\" target=\"_parent\"><img src=\"https://colab.research.google.com/assets/colab-badge.svg\" alt=\"Open In Colab\"/></a>"
      ]
    },
    {
      "cell_type": "markdown",
      "source": [
        "#Funciones"
      ],
      "metadata": {
        "id": "SGtZBatnsyKr"
      }
    },
    {
      "cell_type": "code",
      "source": [
        "#definir funciones basicas\n",
        "def Imprimir():\n",
        "  print(\"Hola!\")\n",
        "\n",
        "#ejecutar el subprograma\n",
        "Imprimir()"
      ],
      "metadata": {
        "colab": {
          "base_uri": "https://localhost:8080/"
        },
        "id": "QWPG9zpxs0N3",
        "outputId": "ae2cf89d-2fac-47ac-a799-59085e1112ba"
      },
      "execution_count": 3,
      "outputs": [
        {
          "output_type": "stream",
          "name": "stdout",
          "text": [
            "Hola!\n"
          ]
        }
      ]
    },
    {
      "cell_type": "code",
      "source": [
        "def Imprimir(texto):\n",
        "  print(\"Hola! \"+texto)\n",
        "\n",
        "#ejecutar el subprograma\n",
        "Imprimir(\"Clase\")"
      ],
      "metadata": {
        "colab": {
          "base_uri": "https://localhost:8080/"
        },
        "id": "FzRjB5pWta28",
        "outputId": "a0799ae2-eeef-4541-c014-11b6d5536355"
      },
      "execution_count": 11,
      "outputs": [
        {
          "output_type": "stream",
          "name": "stdout",
          "text": [
            "Hola! Clase\n"
          ]
        }
      ]
    },
    {
      "cell_type": "code",
      "source": [
        "def Imprimir(texto,texto2):\n",
        "  print(\"Hola! \"+texto+texto2)\n",
        "\n",
        "#ejecutar el subprograma\n",
        "Imprimir(\"Clase\",\" de analisis numerico\")"
      ],
      "metadata": {
        "colab": {
          "base_uri": "https://localhost:8080/"
        },
        "id": "1eenFsrCtlS0",
        "outputId": "8800ff67-bf9d-4b1c-9061-62b6eb48702a"
      },
      "execution_count": 14,
      "outputs": [
        {
          "output_type": "stream",
          "name": "stdout",
          "text": [
            "Hola! Clase de analisis numerico\n"
          ]
        }
      ]
    },
    {
      "cell_type": "code",
      "source": [
        "def Imprimir1(texto=\"Clase\",texto2=\" de numerico\"):\n",
        "  print(\"Hola! \"+texto+texto2)\n",
        "\n",
        "#ejecutar el subprograma\n",
        "Imprimir1(\"Mundo\",\" Hola\")"
      ],
      "metadata": {
        "colab": {
          "base_uri": "https://localhost:8080/"
        },
        "id": "Zys071q7uBXv",
        "outputId": "d8d23ec7-c0b0-44a8-fec7-818640322959"
      },
      "execution_count": 23,
      "outputs": [
        {
          "output_type": "stream",
          "name": "stdout",
          "text": [
            "Hola! Mundo Hola\n"
          ]
        }
      ]
    },
    {
      "cell_type": "code",
      "source": [
        "def Concatena(texto1,texto2):\n",
        "  return texto1+texto2,texto2+texto1\n",
        "\n",
        "print(Concatena(\"Hola \",\"Mundo\"))"
      ],
      "metadata": {
        "colab": {
          "base_uri": "https://localhost:8080/"
        },
        "id": "YIeUdgDUuizB",
        "outputId": "571cfa3b-0003-46ee-faf8-eb419cb3ffaf"
      },
      "execution_count": 26,
      "outputs": [
        {
          "output_type": "stream",
          "name": "stdout",
          "text": [
            "('Hola Mundo', 'MundoHola ')\n"
          ]
        }
      ]
    },
    {
      "cell_type": "markdown",
      "source": [
        "#Funciones lambda"
      ],
      "metadata": {
        "id": "D_ytNRB9v0tA"
      }
    },
    {
      "cell_type": "code",
      "source": [
        "Concatenado=lambda texto1,texto2:texto1+texto2"
      ],
      "metadata": {
        "id": "rsce24vPvcQY"
      },
      "execution_count": 27,
      "outputs": []
    },
    {
      "cell_type": "code",
      "source": [
        "TextoConcatenado=Concatenado(\"Hola \",\"mundo!\")\n",
        "print(TextoConcatenado)"
      ],
      "metadata": {
        "colab": {
          "base_uri": "https://localhost:8080/"
        },
        "id": "mZPSATKawCsl",
        "outputId": "3c553d2b-a153-48b8-f0c8-c66eaa479d33"
      },
      "execution_count": 30,
      "outputs": [
        {
          "output_type": "stream",
          "name": "stdout",
          "text": [
            "Hola mundo!\n"
          ]
        }
      ]
    },
    {
      "cell_type": "markdown",
      "source": [
        "#Programas"
      ],
      "metadata": {
        "id": "X1kBJ1FxwnUd"
      }
    },
    {
      "cell_type": "markdown",
      "source": [
        "Calcular el factorial de un numero"
      ],
      "metadata": {
        "id": "MAAwDrknwwBC"
      }
    },
    {
      "cell_type": "code",
      "source": [
        "def FactorialIterativo(N):\n",
        "  if N>0:\n",
        "    i=1\n",
        "    for j in range(1,N+1):\n",
        "      i=i*j\n",
        "    return i\n",
        "  elif N==0:\n",
        "    return 1\n",
        "  else:\n",
        "    print(\"Error\")\n",
        "    return\n",
        "\n",
        "FactorialIterativo(1020)"
      ],
      "metadata": {
        "colab": {
          "base_uri": "https://localhost:8080/"
        },
        "id": "FJi-UDlgwI8f",
        "outputId": "0f70ac46-3e0d-4acc-e6ad-7019143d4444"
      },
      "execution_count": 43,
      "outputs": [
        {
          "output_type": "execute_result",
          "data": {
            "text/plain": [
              "495711686351639193773210783935508599967193812971557935364863691944470223358915090366269100180330234872803827608284137529747334498102087842000654494331876648800970728361307682481776959128900957177413590597965794092910403488145761377098525324023508990067767282343838478050787283572604415908509119742107196724215953292313644915831489615785484391971963523405927910421017966336454320320441831824824944604996539190237346448561537427251334754639423702789262693545523800640906696657921844088370453074725139420955959541690085517931651878503605013736983188996291806658857460633101860968204750336261330581216890921602812806437160430597858190592228921009774732860666636874238518206869954266279983928306836797452763695722676124915966018053224057374434854000827889307988349781015132443520460202490973437807128104812760101378051029582024149593984550917222563537860033788954948419465281275635535343394824561576602468030624708028470876687083056603164203950869792485263483550965451414223339353827003939084759336207364260766727894105318713181959161804913544382557559700045998062604361969936978102323838300087333974768312969140441961115048063033663058761039825092514056499257657170192502971959438325685411040135578513777263193470000316441985851425551287566127029485378438864829472066821520298907903010108437381352385692634058825409866106848832544838999499099117418954232228512576242184330789412215385243664928067630035340295085042453598596137854826567891025728059139061709704358212531643359888874225371664842690400732100564143038531401141945742973890530336619949101435259868005989204537227214517455755081841433860832368437055803650428609457002876995908345026731173265171978900636091694711057211141857525237731767468722092326590290117415574889961483301643438395966522383541702596902346591484429027748357129241246476629333263030808897081675674431848666409122170179902214071667793092709919475814843614866385282764173524210243518396581118518163129579365431006199383760851055851538606747200282046835555477844371601871293165766991588699706043663382035307239695796222503869716253317136980544202168084393582378972631406356890971975046938380011411592552188039636586702614787489989555962442033187998649804283785834425443126186537941206418604554240186090531687964869568792037571195840178652923444476118701857333482210844224497186610715843056877004497795934551499384354410066065589926352687698997420312494080000000000000000000000000000000000000000000000000000000000000000000000000000000000000000000000000000000000000000000000000000000000000000000000000000000000000000000000000000000000000000000000000000000000000000000000000000000000000000000000000000000000000"
            ]
          },
          "metadata": {},
          "execution_count": 43
        }
      ]
    },
    {
      "cell_type": "code",
      "source": [
        "def FactorialRecursivo(N):\n",
        "  if N>0:\n",
        "    return N*FactorialRecursivo(N-1)\n",
        "  elif N==0:\n",
        "    return 1\n",
        "  else:\n",
        "    print(\"Error\")\n",
        "    return\n",
        "\n",
        "FactorialRecursivo(1000)"
      ],
      "metadata": {
        "colab": {
          "base_uri": "https://localhost:8080/",
          "height": 403
        },
        "id": "P6AP5FNGw-RS",
        "outputId": "dee68885-2f60-4ecb-f7fa-456e6ae1b899"
      },
      "execution_count": 42,
      "outputs": [
        {
          "output_type": "error",
          "ename": "RecursionError",
          "evalue": "maximum recursion depth exceeded in comparison",
          "traceback": [
            "\u001b[0;31m---------------------------------------------------------------------------\u001b[0m",
            "\u001b[0;31mRecursionError\u001b[0m                            Traceback (most recent call last)",
            "\u001b[0;32m<ipython-input-42-0d9e62bb8b38>\u001b[0m in \u001b[0;36m<cell line: 10>\u001b[0;34m()\u001b[0m\n\u001b[1;32m      8\u001b[0m     \u001b[0;32mreturn\u001b[0m\u001b[0;34m\u001b[0m\u001b[0;34m\u001b[0m\u001b[0m\n\u001b[1;32m      9\u001b[0m \u001b[0;34m\u001b[0m\u001b[0m\n\u001b[0;32m---> 10\u001b[0;31m \u001b[0mFactorialRecursivo\u001b[0m\u001b[0;34m(\u001b[0m\u001b[0;36m1000\u001b[0m\u001b[0;34m)\u001b[0m\u001b[0;34m\u001b[0m\u001b[0;34m\u001b[0m\u001b[0m\n\u001b[0m",
            "\u001b[0;32m<ipython-input-42-0d9e62bb8b38>\u001b[0m in \u001b[0;36mFactorialRecursivo\u001b[0;34m(N)\u001b[0m\n\u001b[1;32m      1\u001b[0m \u001b[0;32mdef\u001b[0m \u001b[0mFactorialRecursivo\u001b[0m\u001b[0;34m(\u001b[0m\u001b[0mN\u001b[0m\u001b[0;34m)\u001b[0m\u001b[0;34m:\u001b[0m\u001b[0;34m\u001b[0m\u001b[0;34m\u001b[0m\u001b[0m\n\u001b[1;32m      2\u001b[0m   \u001b[0;32mif\u001b[0m \u001b[0mN\u001b[0m\u001b[0;34m>\u001b[0m\u001b[0;36m0\u001b[0m\u001b[0;34m:\u001b[0m\u001b[0;34m\u001b[0m\u001b[0;34m\u001b[0m\u001b[0m\n\u001b[0;32m----> 3\u001b[0;31m     \u001b[0;32mreturn\u001b[0m \u001b[0mN\u001b[0m\u001b[0;34m*\u001b[0m\u001b[0mFactorialRecursivo\u001b[0m\u001b[0;34m(\u001b[0m\u001b[0mN\u001b[0m\u001b[0;34m-\u001b[0m\u001b[0;36m1\u001b[0m\u001b[0;34m)\u001b[0m\u001b[0;34m\u001b[0m\u001b[0;34m\u001b[0m\u001b[0m\n\u001b[0m\u001b[1;32m      4\u001b[0m   \u001b[0;32melif\u001b[0m \u001b[0mN\u001b[0m\u001b[0;34m==\u001b[0m\u001b[0;36m0\u001b[0m\u001b[0;34m:\u001b[0m\u001b[0;34m\u001b[0m\u001b[0;34m\u001b[0m\u001b[0m\n\u001b[1;32m      5\u001b[0m     \u001b[0;32mreturn\u001b[0m \u001b[0;36m1\u001b[0m\u001b[0;34m\u001b[0m\u001b[0;34m\u001b[0m\u001b[0m\n",
            "... last 1 frames repeated, from the frame below ...\n",
            "\u001b[0;32m<ipython-input-42-0d9e62bb8b38>\u001b[0m in \u001b[0;36mFactorialRecursivo\u001b[0;34m(N)\u001b[0m\n\u001b[1;32m      1\u001b[0m \u001b[0;32mdef\u001b[0m \u001b[0mFactorialRecursivo\u001b[0m\u001b[0;34m(\u001b[0m\u001b[0mN\u001b[0m\u001b[0;34m)\u001b[0m\u001b[0;34m:\u001b[0m\u001b[0;34m\u001b[0m\u001b[0;34m\u001b[0m\u001b[0m\n\u001b[1;32m      2\u001b[0m   \u001b[0;32mif\u001b[0m \u001b[0mN\u001b[0m\u001b[0;34m>\u001b[0m\u001b[0;36m0\u001b[0m\u001b[0;34m:\u001b[0m\u001b[0;34m\u001b[0m\u001b[0;34m\u001b[0m\u001b[0m\n\u001b[0;32m----> 3\u001b[0;31m     \u001b[0;32mreturn\u001b[0m \u001b[0mN\u001b[0m\u001b[0;34m*\u001b[0m\u001b[0mFactorialRecursivo\u001b[0m\u001b[0;34m(\u001b[0m\u001b[0mN\u001b[0m\u001b[0;34m-\u001b[0m\u001b[0;36m1\u001b[0m\u001b[0;34m)\u001b[0m\u001b[0;34m\u001b[0m\u001b[0;34m\u001b[0m\u001b[0m\n\u001b[0m\u001b[1;32m      4\u001b[0m   \u001b[0;32melif\u001b[0m \u001b[0mN\u001b[0m\u001b[0;34m==\u001b[0m\u001b[0;36m0\u001b[0m\u001b[0;34m:\u001b[0m\u001b[0;34m\u001b[0m\u001b[0;34m\u001b[0m\u001b[0m\n\u001b[1;32m      5\u001b[0m     \u001b[0;32mreturn\u001b[0m \u001b[0;36m1\u001b[0m\u001b[0;34m\u001b[0m\u001b[0;34m\u001b[0m\u001b[0m\n",
            "\u001b[0;31mRecursionError\u001b[0m: maximum recursion depth exceeded in comparison"
          ]
        }
      ]
    },
    {
      "cell_type": "code",
      "source": [],
      "metadata": {
        "id": "c_c1w-eN1FF8"
      },
      "execution_count": null,
      "outputs": []
    }
  ]
}