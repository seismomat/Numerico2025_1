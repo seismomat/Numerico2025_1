{
  "nbformat": 4,
  "nbformat_minor": 0,
  "metadata": {
    "colab": {
      "provenance": [],
      "authorship_tag": "ABX9TyP4n1R0bwm+V4JlJE9XvXIO",
      "include_colab_link": true
    },
    "kernelspec": {
      "name": "python3",
      "display_name": "Python 3"
    },
    "language_info": {
      "name": "python"
    }
  },
  "cells": [
    {
      "cell_type": "markdown",
      "metadata": {
        "id": "view-in-github",
        "colab_type": "text"
      },
      "source": [
        "<a href=\"https://colab.research.google.com/github/seismomat/Numerico2025_1/blob/main/EcuacionesNoLineales.ipynb\" target=\"_parent\"><img src=\"https://colab.research.google.com/assets/colab-badge.svg\" alt=\"Open In Colab\"/></a>"
      ]
    },
    {
      "cell_type": "code",
      "execution_count": null,
      "metadata": {
        "id": "W27kxsXdA-Ph"
      },
      "outputs": [],
      "source": [
        "import numpy as np"
      ]
    },
    {
      "cell_type": "code",
      "source": [
        "def Biseccion(Tol,N,f,a,b):\n",
        "  #N es el numero de iteraciones\n",
        "  # Tol es la tolerancia\n",
        "  # f es la función a la cual se le quiere\n",
        "  # obtener las raíces\n",
        "  # a es el extremo izquierdo del intervalo\n",
        "  # b es el extremo derecho del intervalo\n",
        "\n",
        "  fa,fb=f(a),f(b)\n",
        "  if fa*fb>0.0:\n",
        "    print(\"No tiene raíces en el intervalo\")\n",
        "\n",
        "  x0=0.0\n",
        "  Iter=0\n",
        "  while Iter<=N:\n",
        "    x1=(a+b)/2.0\n",
        "    fx1=f(x1)\n",
        "    if abs(fx1)<=Tol and abs(x1-x0)<=Tol:\n",
        "      print(\"Tu raiz es \"+str(x1))\n",
        "      return x1\n",
        "\n",
        "    if fa*fx1<0:\n",
        "      b=x1\n",
        "    if fx1*fb<0:\n",
        "      a=x1\n",
        "\n",
        "    x0=x1\n",
        "    Iter+=1\n",
        "\n",
        "  else:\n",
        "    print(\"El valor aproximado de tu raiz es \"+str(x1))\n"
      ],
      "metadata": {
        "id": "3y9SLUd8BGqO"
      },
      "execution_count": null,
      "outputs": []
    },
    {
      "cell_type": "code",
      "source": [
        "def ReglaFalsa(Tol,N,f,a,b):\n",
        "  #N es el numero de iteraciones\n",
        "  # Tol es la tolerancia\n",
        "  # f es la función a la cual se le quiere\n",
        "  # obtener las raíces\n",
        "  # a es el extremo izquierdo del intervalo\n",
        "  # b es el extremo derecho del intervalo\n",
        "\n",
        "  fa,fb=f(a),f(b)\n",
        "  if fa*fb>0.0:\n",
        "    print(\"No tiene raíces en el intervalo\")\n",
        "\n",
        "  x0=0.0\n",
        "  Iter=0\n",
        "  while Iter<=N:\n",
        "    x1=(a*fb-b*fa)/(fb-fa)\n",
        "    fx1=f(x1)\n",
        "    if abs(fx1)<=Tol and abs(x1-x0)<=Tol:\n",
        "      print(\"Tu raiz es \"+str(x1))\n",
        "      return x1\n",
        "\n",
        "    if fa*fx1<0:\n",
        "      b=x1\n",
        "    if fx1*fb<0:\n",
        "      a=x1\n",
        "\n",
        "    x0=x1\n",
        "    Iter+=1\n",
        "\n",
        "  else:\n",
        "    print(\"El valor aproximado de tu raiz es \"+str(x1))\n"
      ],
      "metadata": {
        "id": "i7I6SWXnBkNm"
      },
      "execution_count": null,
      "outputs": []
    },
    {
      "cell_type": "code",
      "source": [
        "def Secante(f, Tol, N, x0, x1):\n",
        "    #N es el numero de iteraciones\n",
        "    # Tol es la tolerancia\n",
        "    # f es la función a la cual se le quiere\n",
        "    # obtener las raíces\n",
        "    # x0 es el extremo izquierdo del intervalo\n",
        "    # x1 es el extremo derecho del intervalo\n",
        "\n",
        "    #contador de iteraciones\n",
        "    n = 1\n",
        "    #mientras no se haya superado el limite de iteraciones\n",
        "    while( N >= n ):\n",
        "        #calculo de los valores de fx\n",
        "        fx0,fx1=f(x0),f(x1)\n",
        "        #se calcula la siguiente aproximacion\n",
        "        xn = x1-fx1*((x1-x0)/float(fx1-fx0))\n",
        "        #en caso de que se cumplan los criteros de paro\n",
        "        #se devuelve la raiz\n",
        "        if (abs(f(xn)) <= Tol and abs(x0-x1) <= Tol):\n",
        "            return xn\n",
        "        #se actualizan los valores\n",
        "        x0 = x1\n",
        "        x1 = xn\n",
        "        #incremento en las iteraciones\n",
        "        n+=1\n",
        "\n",
        "    else:\n",
        "        print(\"El valor aproximado de tu raiz es \"+str(x1))"
      ],
      "metadata": {
        "id": "EEJs2YqnBnC2"
      },
      "execution_count": null,
      "outputs": []
    },
    {
      "cell_type": "code",
      "source": [
        "def Newton(f,df,Tol,N,x0):\n",
        "  #N es el numero de iteraciones\n",
        "  # Tol es la tolerancia\n",
        "  # f es la función a la cual se le quiere\n",
        "  # obtener las raíces\n",
        "  # df es la derivada de la funcion\n",
        "  # x0 es la condicion inicial\n",
        "\n",
        "  Iter=0\n",
        "\n",
        "  while Iter<=N:\n",
        "    fx=f(x0)\n",
        "    dfx=df(x0)\n",
        "\n",
        "    xn = x0 - (fx/float(dfx))\n",
        "    if abs(f(xn))<=Tol and abs(xn-x0)<=Tol:\n",
        "      print(\"Tu raiz es \"+str(xn))\n",
        "      return xn\n",
        "\n",
        "    x0=xn\n",
        "\n",
        "    Iter+=1\n",
        "\n",
        "  else:\n",
        "    print(\"El valor aproximado de tu raiz es \"+str(xn))"
      ],
      "metadata": {
        "id": "v2KA8pRdBNCm"
      },
      "execution_count": null,
      "outputs": []
    },
    {
      "cell_type": "code",
      "source": [
        "def FixPoint(g,x0,Tol=0.0001,N=100):\n",
        "  #N es el numero de iteraciones\n",
        "  # Tol es la tolerancia\n",
        "  # g es la función a la cual se le quiere\n",
        "  # obtener el punto fijo\n",
        "  # x0 es la condicion inicial\n",
        "\n",
        "    n=1\n",
        "    while n<=N:\n",
        "        x1=g(x0)\n",
        "        if abs(x1-x0)<=Tol:\n",
        "            print(f\"EL punto fijo es {x1}\")\n",
        "            return x1\n",
        "        x0=x1\n",
        "        n+=1\n",
        "    else:\n",
        "        print(f\"Una aproximación del punto fijo es {x1}\")\n",
        "        return x1"
      ],
      "metadata": {
        "id": "VLQ1BaCHBpsn"
      },
      "execution_count": null,
      "outputs": []
    },
    {
      "cell_type": "code",
      "source": [
        "f=lambda x:(x**2)-1\n",
        "df= lambda x:2*x\n",
        "\n",
        "Biseccion(1E-4,100,f,0.5,1.5)\n",
        "ReglaFalsa(1E-4,100,f,0.5,1.5)\n",
        "Secante(f,0.001,20,0.5,1.5)\n",
        "Newton(f,df,1E-5,100,1.)\n"
      ],
      "metadata": {
        "colab": {
          "base_uri": "https://localhost:8080/"
        },
        "id": "h9tWYr4oBX5l",
        "outputId": "07e34953-8175-4b4e-eacb-7ffa5e9bc8b2"
      },
      "execution_count": null,
      "outputs": [
        {
          "output_type": "stream",
          "name": "stdout",
          "text": [
            "Tu raiz es 1.0\n",
            "Tu raiz es 0.9999813880497186\n",
            "Tu raiz es 1.0\n"
          ]
        },
        {
          "output_type": "execute_result",
          "data": {
            "text/plain": [
              "1.0"
            ]
          },
          "metadata": {},
          "execution_count": 7
        }
      ]
    },
    {
      "cell_type": "code",
      "source": [
        "f= lambda x: np.cos(x)-x+1\n",
        "g=lambda x: np.cos(x)+1\n",
        "# condicion inicial\n",
        "x=1.5\n",
        "\n",
        "FixPoint(g,1.5)"
      ],
      "metadata": {
        "colab": {
          "base_uri": "https://localhost:8080/"
        },
        "id": "d1yqDzUkBZqd",
        "outputId": "05f23b45-158a-4167-e010-343ed005ff65"
      },
      "execution_count": null,
      "outputs": [
        {
          "output_type": "stream",
          "name": "stdout",
          "text": [
            "Una aproximación del punto fijo es 1.2864456249325646\n"
          ]
        },
        {
          "output_type": "execute_result",
          "data": {
            "text/plain": [
              "1.2864456249325646"
            ]
          },
          "metadata": {},
          "execution_count": 8
        }
      ]
    },
    {
      "cell_type": "code",
      "source": [],
      "metadata": {
        "id": "XyKmE-1yBa81"
      },
      "execution_count": null,
      "outputs": []
    }
  ]
}